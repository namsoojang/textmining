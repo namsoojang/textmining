{
 "cells": [
  {
   "cell_type": "code",
   "execution_count": 1,
   "metadata": {
    "collapsed": true
   },
   "outputs": [],
   "source": [
    "\n",
    "    "
   ]
  },
  {
   "cell_type": "code",
   "execution_count": 1,
   "metadata": {
    "collapsed": true
   },
   "outputs": [],
   "source": [
    "import requests\n",
    "from bs4 import BeautifulSoup"
   ]
  },
  {
   "cell_type": "code",
   "execution_count": 2,
   "metadata": {
    "collapsed": true
   },
   "outputs": [],
   "source": [
    "#게시판 ULR 생성\n",
    "def make_url(page_num):\n",
    "    url_base = 'http://www.ydp.go.kr/leader/minwon.do?cfgIdx=3&pageNm=B0101&page={}'  \n",
    "    url = url_base.format(page_num)\n",
    "    \n",
    "    return url"
   ]
  },
  {
   "cell_type": "code",
   "execution_count": 3,
   "metadata": {
    "collapsed": true
   },
   "outputs": [],
   "source": [
    "#테스트용 삭제가능.\n",
    "# 게시판 페이지 정보 \n",
    "url=make_url(3)   #3 페이지 조회\n",
    "html=requests.get(url).text\n",
    "soup = BeautifulSoup(html,'lxml')"
   ]
  },
  {
   "cell_type": "code",
   "execution_count": 12,
   "metadata": {
    "collapsed": true
   },
   "outputs": [],
   "source": [
    "# 게시판 페이지 내 공개글 링크 가져오기\n",
    "\n",
    "def get_links(page_soup):\n",
    "    letters_in_page = page_soup.select('tbody > tr')\n",
    "    letters_link = []\n",
    "\n",
    "    for letter in letters_in_page:\n",
    "        try:\n",
    "            title = letter.select_one('td.tbl_tit > a').text\n",
    "    #         print(title)\n",
    "            link = letter.select('td.tbl_tit > a')[0]['href']\n",
    "            writer = letter.select('td.m_hide')[1].text.strip()\n",
    "            if writer !='비공개':\n",
    "                letters_link.append('http://www.ydp.go.kr'+link)    #절대경로로 바꾸어준다\n",
    "        except:\n",
    "            continue\n",
    "\n",
    "    return letters_link\n",
    "\n",
    "# http://www.ydp.go.kr/leader/minwon.do?cfgIdx=3&pageNm=B0101&page=3&op=view&idxId=109060"
   ]
  },
  {
   "cell_type": "code",
   "execution_count": 2,
   "metadata": {
    "collapsed": true
   },
   "outputs": [],
   "source": [
    "import time\n",
    "import random"
   ]
  },
  {
   "cell_type": "code",
   "execution_count": 18,
   "metadata": {},
   "outputs": [
    {
     "name": "stdout",
     "output_type": "stream",
     "text": [
      "1번 페이지까지 3개 링크 수집되었습니다. \n",
      "2번 페이지까지 9개 링크 수집되었습니다. \n",
      "3번 페이지까지 16개 링크 수집되었습니다. \n",
      "4번 페이지까지 20개 링크 수집되었습니다. \n",
      "5번 페이지까지 25개 링크 수집되었습니다. \n",
      "6번 페이지까지 30개 링크 수집되었습니다. \n",
      "7번 페이지까지 34개 링크 수집되었습니다. \n",
      "8번 페이지까지 35개 링크 수집되었습니다. \n",
      "9번 페이지까지 40개 링크 수집되었습니다. \n",
      "10번 페이지까지 42개 링크 수집되었습니다. \n",
      "11번 페이지까지 47개 링크 수집되었습니다. \n",
      "12번 페이지까지 52개 링크 수집되었습니다. \n",
      "13번 페이지까지 56개 링크 수집되었습니다. \n",
      "14번 페이지까지 61개 링크 수집되었습니다. \n",
      "15번 페이지까지 66개 링크 수집되었습니다. \n",
      "16번 페이지까지 72개 링크 수집되었습니다. \n",
      "17번 페이지까지 75개 링크 수집되었습니다. \n",
      "18번 페이지까지 78개 링크 수집되었습니다. \n",
      "19번 페이지까지 80개 링크 수집되었습니다. \n",
      "20번 페이지까지 83개 링크 수집되었습니다. \n",
      "21번 페이지까지 84개 링크 수집되었습니다. \n",
      "22번 페이지까지 88개 링크 수집되었습니다. \n",
      "23번 페이지까지 94개 링크 수집되었습니다. \n",
      "24번 페이지까지 99개 링크 수집되었습니다. \n",
      "25번 페이지까지 105개 링크 수집되었습니다. \n",
      "26번 페이지까지 109개 링크 수집되었습니다. \n",
      "27번 페이지까지 112개 링크 수집되었습니다. \n",
      "28번 페이지까지 120개 링크 수집되었습니다. \n",
      "29번 페이지까지 125개 링크 수집되었습니다. \n",
      "30번 페이지까지 131개 링크 수집되었습니다. \n",
      "31번 페이지까지 136개 링크 수집되었습니다. \n",
      "32번 페이지까지 141개 링크 수집되었습니다. \n",
      "33번 페이지까지 146개 링크 수집되었습니다. \n",
      "34번 페이지까지 154개 링크 수집되었습니다. \n",
      "35번 페이지까지 156개 링크 수집되었습니다. \n",
      "36번 페이지까지 162개 링크 수집되었습니다. \n",
      "37번 페이지까지 169개 링크 수집되었습니다. \n",
      "38번 페이지까지 177개 링크 수집되었습니다. \n",
      "39번 페이지까지 181개 링크 수집되었습니다. \n",
      "40번 페이지까지 187개 링크 수집되었습니다. \n",
      "41번 페이지까지 193개 링크 수집되었습니다. \n",
      "42번 페이지까지 199개 링크 수집되었습니다. \n",
      "43번 페이지까지 204개 링크 수집되었습니다. \n",
      "44번 페이지까지 210개 링크 수집되었습니다. \n",
      "45번 페이지까지 215개 링크 수집되었습니다. \n",
      "46번 페이지까지 223개 링크 수집되었습니다. \n",
      "47번 페이지까지 229개 링크 수집되었습니다. \n",
      "48번 페이지까지 233개 링크 수집되었습니다. \n",
      "49번 페이지까지 238개 링크 수집되었습니다. \n",
      "50번 페이지까지 245개 링크 수집되었습니다. \n",
      "51번 페이지까지 250개 링크 수집되었습니다. \n",
      "52번 페이지까지 257개 링크 수집되었습니다. \n",
      "53번 페이지까지 263개 링크 수집되었습니다. \n",
      "54번 페이지까지 270개 링크 수집되었습니다. \n",
      "55번 페이지까지 276개 링크 수집되었습니다. \n",
      "56번 페이지까지 282개 링크 수집되었습니다. \n",
      "57번 페이지까지 287개 링크 수집되었습니다. \n",
      "58번 페이지까지 292개 링크 수집되었습니다. \n",
      "59번 페이지까지 293개 링크 수집되었습니다. \n",
      "60번 페이지까지 294개 링크 수집되었습니다. \n",
      "61번 페이지까지 295개 링크 수집되었습니다. \n",
      "62번 페이지까지 299개 링크 수집되었습니다. \n",
      "63번 페이지까지 305개 링크 수집되었습니다. \n",
      "64번 페이지까지 309개 링크 수집되었습니다. \n",
      "65번 페이지까지 312개 링크 수집되었습니다. \n",
      "66번 페이지까지 315개 링크 수집되었습니다. \n",
      "67번 페이지까지 320개 링크 수집되었습니다. \n",
      "68번 페이지까지 324개 링크 수집되었습니다. \n",
      "69번 페이지까지 329개 링크 수집되었습니다. \n",
      "70번 페이지까지 334개 링크 수집되었습니다. \n",
      "71번 페이지까지 339개 링크 수집되었습니다. \n",
      "72번 페이지까지 341개 링크 수집되었습니다. \n",
      "73번 페이지까지 345개 링크 수집되었습니다. \n",
      "74번 페이지까지 347개 링크 수집되었습니다. \n",
      "75번 페이지까지 351개 링크 수집되었습니다. \n",
      "76번 페이지까지 356개 링크 수집되었습니다. \n",
      "77번 페이지까지 360개 링크 수집되었습니다. \n",
      "78번 페이지까지 366개 링크 수집되었습니다. \n",
      "79번 페이지까지 371개 링크 수집되었습니다. \n",
      "80번 페이지까지 375개 링크 수집되었습니다. \n",
      "81번 페이지까지 378개 링크 수집되었습니다. \n",
      "82번 페이지까지 382개 링크 수집되었습니다. \n",
      "83번 페이지까지 386개 링크 수집되었습니다. \n",
      "84번 페이지까지 391개 링크 수집되었습니다. \n",
      "85번 페이지까지 397개 링크 수집되었습니다. \n",
      "86번 페이지까지 401개 링크 수집되었습니다. \n",
      "87번 페이지까지 405개 링크 수집되었습니다. \n",
      "88번 페이지까지 409개 링크 수집되었습니다. \n",
      "89번 페이지까지 413개 링크 수집되었습니다. \n",
      "90번 페이지까지 417개 링크 수집되었습니다. \n",
      "91번 페이지까지 419개 링크 수집되었습니다. \n",
      "92번 페이지까지 423개 링크 수집되었습니다. \n",
      "93번 페이지까지 428개 링크 수집되었습니다. \n",
      "94번 페이지까지 434개 링크 수집되었습니다. \n",
      "95번 페이지까지 438개 링크 수집되었습니다. \n",
      "96번 페이지까지 445개 링크 수집되었습니다. \n",
      "97번 페이지까지 452개 링크 수집되었습니다. \n",
      "98번 페이지까지 453개 링크 수집되었습니다. \n",
      "99번 페이지까지 455개 링크 수집되었습니다. \n",
      "100번 페이지까지 462개 링크 수집되었습니다. \n",
      "101번 페이지까지 466개 링크 수집되었습니다. \n",
      "102번 페이지까지 470개 링크 수집되었습니다. \n",
      "103번 페이지까지 474개 링크 수집되었습니다. \n",
      "104번 페이지까지 479개 링크 수집되었습니다. \n",
      "105번 페이지까지 483개 링크 수집되었습니다. \n",
      "106번 페이지까지 490개 링크 수집되었습니다. \n",
      "107번 페이지까지 496개 링크 수집되었습니다. \n",
      "108번 페이지까지 501개 링크 수집되었습니다. \n",
      "109번 페이지까지 506개 링크 수집되었습니다. \n",
      "110번 페이지까지 511개 링크 수집되었습니다. \n",
      "111번 페이지까지 516개 링크 수집되었습니다. \n",
      "112번 페이지까지 523개 링크 수집되었습니다. \n",
      "113번 페이지까지 527개 링크 수집되었습니다. \n",
      "114번 페이지까지 533개 링크 수집되었습니다. \n",
      "115번 페이지까지 540개 링크 수집되었습니다. \n",
      "116번 페이지까지 546개 링크 수집되었습니다. \n",
      "117번 페이지까지 552개 링크 수집되었습니다. \n",
      "118번 페이지까지 558개 링크 수집되었습니다. \n",
      "119번 페이지까지 561개 링크 수집되었습니다. \n",
      "120번 페이지까지 569개 링크 수집되었습니다. \n",
      "121번 페이지까지 570개 링크 수집되었습니다. \n",
      "122번 페이지까지 574개 링크 수집되었습니다. \n",
      "123번 페이지까지 579개 링크 수집되었습니다. \n",
      "124번 페이지까지 583개 링크 수집되었습니다. \n",
      "125번 페이지까지 589개 링크 수집되었습니다. \n",
      "126번 페이지까지 597개 링크 수집되었습니다. \n",
      "127번 페이지까지 605개 링크 수집되었습니다. \n",
      "128번 페이지까지 610개 링크 수집되었습니다. \n",
      "129번 페이지까지 619개 링크 수집되었습니다. \n",
      "130번 페이지까지 627개 링크 수집되었습니다. \n",
      "131번 페이지까지 631개 링크 수집되었습니다. \n",
      "132번 페이지까지 639개 링크 수집되었습니다. \n",
      "133번 페이지까지 644개 링크 수집되었습니다. \n",
      "134번 페이지까지 647개 링크 수집되었습니다. \n",
      "135번 페이지까지 653개 링크 수집되었습니다. \n",
      "136번 페이지까지 660개 링크 수집되었습니다. \n",
      "660\n",
      "['http://www.ydp.go.kr/leader/minwon.do;jsessionid=Uj4NNcvb9dNo56TK0XnKVSzGAVtZakvghOZyZSbtyMWunG8Y9HoRwGC4qGuNlVT9.web1_servlet_engine1?cfgIdx=3&pageNm=B0101&page=1&op=view&idxId=109106', 'http://www.ydp.go.kr/leader/minwon.do;jsessionid=Uj4NNcvb9dNo56TK0XnKVSzGAVtZakvghOZyZSbtyMWunG8Y9HoRwGC4qGuNlVT9.web1_servlet_engine1?cfgIdx=3&pageNm=B0101&page=1&op=view&idxId=109094', 'http://www.ydp.go.kr/leader/minwon.do;jsessionid=Uj4NNcvb9dNo56TK0XnKVSzGAVtZakvghOZyZSbtyMWunG8Y9HoRwGC4qGuNlVT9.web1_servlet_engine1?cfgIdx=3&pageNm=B0101&page=1&op=view&idxId=109090', 'http://www.ydp.go.kr/leader/minwon.do;jsessionid=4ZxywfcHLcIFOthM03pvNmLuwbUJCb0UhMw9o1GwCeRWK0sg9o4A1bByLCOWWGTJ.web2_servlet_engine1?cfgIdx=3&pageNm=B0101&page=2&op=view&idxId=109084', 'http://www.ydp.go.kr/leader/minwon.do;jsessionid=4ZxywfcHLcIFOthM03pvNmLuwbUJCb0UhMw9o1GwCeRWK0sg9o4A1bByLCOWWGTJ.web2_servlet_engine1?cfgIdx=3&pageNm=B0101&page=2&op=view&idxId=109083', 'http://www.ydp.go.kr/leader/minwon.do;jsessionid=4ZxywfcHLcIFOthM03pvNmLuwbUJCb0UhMw9o1GwCeRWK0sg9o4A1bByLCOWWGTJ.web2_servlet_engine1?cfgIdx=3&pageNm=B0101&page=2&op=view&idxId=109081', 'http://www.ydp.go.kr/leader/minwon.do;jsessionid=4ZxywfcHLcIFOthM03pvNmLuwbUJCb0UhMw9o1GwCeRWK0sg9o4A1bByLCOWWGTJ.web2_servlet_engine1?cfgIdx=3&pageNm=B0101&page=2&op=view&idxId=109077', 'http://www.ydp.go.kr/leader/minwon.do;jsessionid=4ZxywfcHLcIFOthM03pvNmLuwbUJCb0UhMw9o1GwCeRWK0sg9o4A1bByLCOWWGTJ.web2_servlet_engine1?cfgIdx=3&pageNm=B0101&page=2&op=view&idxId=109074', 'http://www.ydp.go.kr/leader/minwon.do;jsessionid=4ZxywfcHLcIFOthM03pvNmLuwbUJCb0UhMw9o1GwCeRWK0sg9o4A1bByLCOWWGTJ.web2_servlet_engine1?cfgIdx=3&pageNm=B0101&page=2&op=view&idxId=109067', 'http://www.ydp.go.kr/leader/minwon.do;jsessionid=J4WAPIj3U91lpg1S0hV40n1RoDoqNEIah5IpriULvtaTvm8n9cRCYAPGVs4EbbNc.web1_servlet_engine1?cfgIdx=3&pageNm=B0101&page=3&op=view&idxId=109061']\n"
     ]
    }
   ],
   "source": [
    "# 반복문을 통해 1~136 게시판의 게시글 links 를 조회함\n",
    "\n",
    "\n",
    "PAGE_START = 1\n",
    "PAGE_END = 136    # 17년 게시글은 게시판 1번~136번페이지 까지 존재함\n",
    "\n",
    "links = []\n",
    "\n",
    "for page in range(PAGE_START, PAGE_END+1):\n",
    "    url = make_url(page)\n",
    "    \n",
    "    html=requests.get(url).text\n",
    "    soup = BeautifulSoup(html,'lxml')\n",
    "    links += get_links(soup)\n",
    "    print('{}번 페이지까지 {}개 링크 수집되었습니다. '.format(page, len(links)))\n",
    "    time.sleep(1+random.uniform(0.5,1.5))          #페이지당 1.5~2.5초씩 쉬어준다\n",
    "\n",
    "print(len(links))   #660개 게시글 링크 저장완료\n",
    "print(links[:10])"
   ]
  },
  {
   "cell_type": "code",
   "execution_count": 29,
   "metadata": {
    "scrolled": true
   },
   "outputs": [
    {
     "name": "stdout",
     "output_type": "stream",
     "text": [
      "['http://www.ydp.go.kr/leader/minwon.do;jsessionid=Uj4NNcvb9dNo56TK0XnKVSzGAVtZakvghOZyZSbtyMWunG8Y9HoRwGC4qGuNlVT9.web1_servlet_engine1?cfgIdx=3&pageNm=B0101&page=1&op=view&idxId=109106', 'http://www.ydp.go.kr/leader/minwon.do;jsessionid=Uj4NNcvb9dNo56TK0XnKVSzGAVtZakvghOZyZSbtyMWunG8Y9HoRwGC4qGuNlVT9.web1_servlet_engine1?cfgIdx=3&pageNm=B0101&page=1&op=view&idxId=109094', 'http://www.ydp.go.kr/leader/minwon.do;jsessionid=Uj4NNcvb9dNo56TK0XnKVSzGAVtZakvghOZyZSbtyMWunG8Y9HoRwGC4qGuNlVT9.web1_servlet_engine1?cfgIdx=3&pageNm=B0101&page=1&op=view&idxId=109090', 'http://www.ydp.go.kr/leader/minwon.do;jsessionid=4ZxywfcHLcIFOthM03pvNmLuwbUJCb0UhMw9o1GwCeRWK0sg9o4A1bByLCOWWGTJ.web2_servlet_engine1?cfgIdx=3&pageNm=B0101&page=2&op=view&idxId=109084', 'http://www.ydp.go.kr/leader/minwon.do;jsessionid=4ZxywfcHLcIFOthM03pvNmLuwbUJCb0UhMw9o1GwCeRWK0sg9o4A1bByLCOWWGTJ.web2_servlet_engine1?cfgIdx=3&pageNm=B0101&page=2&op=view&idxId=109083', 'http://www.ydp.go.kr/leader/minwon.do;jsessionid=4ZxywfcHLcIFOthM03pvNmLuwbUJCb0UhMw9o1GwCeRWK0sg9o4A1bByLCOWWGTJ.web2_servlet_engine1?cfgIdx=3&pageNm=B0101&page=2&op=view&idxId=109081', 'http://www.ydp.go.kr/leader/minwon.do;jsessionid=4ZxywfcHLcIFOthM03pvNmLuwbUJCb0UhMw9o1GwCeRWK0sg9o4A1bByLCOWWGTJ.web2_servlet_engine1?cfgIdx=3&pageNm=B0101&page=2&op=view&idxId=109077', 'http://www.ydp.go.kr/leader/minwon.do;jsessionid=4ZxywfcHLcIFOthM03pvNmLuwbUJCb0UhMw9o1GwCeRWK0sg9o4A1bByLCOWWGTJ.web2_servlet_engine1?cfgIdx=3&pageNm=B0101&page=2&op=view&idxId=109074', 'http://www.ydp.go.kr/leader/minwon.do;jsessionid=4ZxywfcHLcIFOthM03pvNmLuwbUJCb0UhMw9o1GwCeRWK0sg9o4A1bByLCOWWGTJ.web2_servlet_engine1?cfgIdx=3&pageNm=B0101&page=2&op=view&idxId=109067', 'http://www.ydp.go.kr/leader/minwon.do;jsessionid=J4WAPIj3U91lpg1S0hV40n1RoDoqNEIah5IpriULvtaTvm8n9cRCYAPGVs4EbbNc.web1_servlet_engine1?cfgIdx=3&pageNm=B0101&page=3&op=view&idxId=109061']\n"
     ]
    }
   ],
   "source": [
    "print(links[:10])"
   ]
  },
  {
   "cell_type": "code",
   "execution_count": 24,
   "metadata": {},
   "outputs": [
    {
     "name": "stdout",
     "output_type": "stream",
     "text": [
      "저장완료했습니다\n"
     ]
    }
   ],
   "source": [
    "# 링크 결과 저장하기\n",
    "OUTPUTFILE_LINKS = './data/게시글링크.txt'\n",
    "\n",
    "with open(OUTPUTFILE_LINKS, 'w', encoding='utf-8') as save:\n",
    "    for link in links:\n",
    "        save.write(link)\n",
    "        save.write('\\n')\n",
    "    print('저장완료했습니다')"
   ]
  },
  {
   "cell_type": "code",
   "execution_count": 3,
   "metadata": {
    "collapsed": true
   },
   "outputs": [],
   "source": []
  },
  {
   "cell_type": "code",
   "execution_count": 3,
   "metadata": {
    "scrolled": true
   },
   "outputs": [
    {
     "name": "stdout",
     "output_type": "stream",
     "text": [
      "['http://www.ydp.go.kr/leader/minwon.do;jsessionid=Uj4NNcvb9dNo56TK0XnKVSzGAVtZakvghOZyZSbtyMWunG8Y9HoRwGC4qGuNlVT9.web1_servlet_engine1?cfgIdx=3&pageNm=B0101&page=1&op=view&idxId=109106\\n', 'http://www.ydp.go.kr/leader/minwon.do;jsessionid=Uj4NNcvb9dNo56TK0XnKVSzGAVtZakvghOZyZSbtyMWunG8Y9HoRwGC4qGuNlVT9.web1_servlet_engine1?cfgIdx=3&pageNm=B0101&page=1&op=view&idxId=109094\\n']\n",
      "660\n"
     ]
    }
   ],
   "source": [
    "\n",
    "#저장한 링크 불러오기\n",
    "\n",
    "OUTPUTFILE_LINKS = './data/게시글링크.txt'\n",
    "\n",
    "links = []\n",
    "with open(OUTPUTFILE_LINKS, 'r', encoding='utf-8') as save:\n",
    "    for link in save:\n",
    "        links.append(link)\n",
    "\n",
    "print(links[:2])\n",
    "print(len(links))"
   ]
  },
  {
   "cell_type": "code",
   "execution_count": 5,
   "metadata": {
    "collapsed": true
   },
   "outputs": [],
   "source": [
    "def get_html(url):\n",
    "    '''\n",
    "    url의 html 정보를 가져온다 (get_news_naveronly함수 내부 사용)\n",
    "    '''\n",
    "    try:\n",
    "        user_agent=\"Mozilla/5.0 (Macintosh; Intel Mac OS X 10_9_4) \" +\\\n",
    "        \"AppleWebKit/537.36 (KHTML, like Gecko) \" + \\\n",
    "        \"Chrome/37.0.2062.94 Safari/537.36\"\n",
    "        headers = {\"User-Agent\": user_agent}\n",
    "        response=requests.get(url, headers=headers) \n",
    "        return response.text\n",
    "    except requests.exceptions.ConnectionError:\n",
    "        return 'Connection Failed!'"
   ]
  },
  {
   "cell_type": "code",
   "execution_count": 9,
   "metadata": {
    "scrolled": true
   },
   "outputs": [
    {
     "name": "stdout",
     "output_type": "stream",
     "text": [
      "http://www.ydp.go.kr/leader/minwon.do;jsessionid=J4WAPIj3U91lpg1S0hV40n1RoDoqNEIah5IpriULvtaTvm8n9cRCYAPGVs4EbbNc.web1_servlet_engine1?cfgIdx=3&pageNm=B0101&page=3&op=view&idxId=109060\n",
      "\n",
      "<!DOCTYPE html PUBLIC \"-//W3C//DTD XHTML 1.0 Transitional//EN\" \"http://www.w3.org/TR/xhtml1/DTD/xhtml1-transitional.dtd\">\n",
      "<html lang=\"ko\" xml:lang=\"ko\" xmlns=\"http://www.w3.org/1999/xhtml\">\n",
      "<head>\n",
      "<meta content=\"text/html; charset=utf-8\" http-equiv=\"Content-Type\"/>\n",
      "<title> 영등포구청 &gt; 페이지 오류 안내</title>\n",
      "<style type=\"text/css\">\r\n",
      "\tbody, th, td {font-size:12px;font-family:Dotum,sans-serif;color:#000;}\r\n",
      "\r\n",
      "\ta:link {text-decoration:none;color:#000000;}\r\n",
      "\ta:visited{text-decoration:none;color:#000000;}\r\n",
      "\ta:hover {text-decoration:none;color:#304DCE;}\r\n",
      "\ta:active{text-decoration:none;color:#304DCE;}\r\n",
      "\r\n",
      "\t.hide{position:absolute; width:0; height:0; font-size:0; line-height:0; overflow:hidden; visibility:hidden;}\r\n",
      "\r\n",
      "\ttable.tableBox{width:100%; border-top:2px solid #5e99d3; border-bottom:1px solid #5e99d3; letter-spacing:-0.04em; margin:0 0 5px 0;}\r\n",
      "\ttable.tableBox tr.category{background:#f3f8fd url(/images/main/common/bg_boardttl.gif) repeat-x 0 0;}\r\n",
      "\ttable.tableBox th{color:#618dbf; border-right:1px solid #b6cde4; padding:6px 5px 2px 5px; border-bottom:1px solid #b6cde4; letter-spacing:-0.03em; font-weight:bold; text-align:center;}\r\n",
      "\ttable.tableBox th.category{background:#f3f8fd url(/images/main/common/bg_boardttl.gif) repeat-x 0 0;}\r\n",
      "\ttable.tableBox th.rowbg{background:#f8f8f8; color:#717f98;}\r\n",
      "\ttable.tableBox th a{color:#566889;}\r\n",
      "\ttable.tableBox th.colLine{border-left:1px solid #b6cde4;}\r\n",
      "\ttable.tableBox td{border-right:1px solid #dddddd; border-bottom:1px solid #dddddd; padding:8px 5px 5px 5px; font-weight:normal;}\r\n",
      "\ttable.tableBox td.line{border-left:1px solid #dddddd;}\r\n",
      "\ttable.tableBox td ul.tdul{padding:0 5px; margin:0; clear:left; text-align:left;}\r\n",
      "\ttable.tableBox td ul.tdul li{width:100%; padding:3px 0 1px 0; line-height:1.5em; clear:left;}\r\n",
      "\t</style>\n",
      "</head>\n",
      "<body style=\"padding:30px;\">\n",
      "<div style=\"text-align:center;\">\n",
      "<div style=\"padding-bottom:20px;\">\n",
      "<b>죄송합니다. 요청하신 페이지를 찾을 수 없습니다.</b>\n",
      "</div>\n",
      "<table cellspacing=\"0\" class=\"tableBox txtCt\" summary=\"페이지 오류 정보\">\n",
      "<caption class=\"hide\">페이지 오류 정보</caption>\n",
      "<tbody>\n",
      "<tr>\n",
      "<th class=\"colLine rowbg\" scope=\"row\">상태코드</th>\n",
      "<td align=\"left\">200</td>\n",
      "</tr>\n",
      "<tr>\n",
      "<th class=\"colLine rowbg\" scope=\"row\">메시지</th>\n",
      "<td align=\"left\">\n",
      "</td>\n",
      "</tr>\n",
      "<tr>\n",
      "<th class=\"colLine rowbg\" scope=\"row\" width=\"80\">페이지</th>\n",
      "<td align=\"left\">/leader/minwon.do?cfgIdx=3&amp;pageNm=B0101&amp;page=3&amp;op=view&amp;idxId=109060%0A</td>\n",
      "</tr>\n",
      "</tbody>\n",
      "</table>\n",
      "<div style=\"padding-top:20px;\">\r\n",
      "\t[<a href=\"/\" onclick=\"history.back(); return false;\">뒤로가기</a>]\r\n",
      "\t   \r\n",
      "\t[<a href=\"/\">영등포구청 홈</a>]\r\n",
      "</div>\n",
      "</div>\n",
      "</body>\n",
      "</html>\n"
     ]
    },
    {
     "ename": "IndexError",
     "evalue": "list index out of range",
     "output_type": "error",
     "traceback": [
      "\u001b[1;31m---------------------------------------------------------------------------\u001b[0m",
      "\u001b[1;31mIndexError\u001b[0m                                Traceback (most recent call last)",
      "\u001b[1;32m<ipython-input-9-a233a2792743>\u001b[0m in \u001b[0;36m<module>\u001b[1;34m()\u001b[0m\n\u001b[0;32m     20\u001b[0m \u001b[1;31m# body > div.contents > div > div.row > div:nth-child(1) > table > tbody > tr:nth-child(2) > td > div\u001b[0m\u001b[1;33m\u001b[0m\u001b[1;33m\u001b[0m\u001b[0m\n\u001b[0;32m     21\u001b[0m \u001b[1;33m\u001b[0m\u001b[0m\n\u001b[1;32m---> 22\u001b[1;33m \u001b[0mprint\u001b[0m\u001b[1;33m(\u001b[0m\u001b[0mget_letter\u001b[0m\u001b[1;33m(\u001b[0m\u001b[0murl\u001b[0m\u001b[1;33m)\u001b[0m\u001b[1;33m)\u001b[0m\u001b[1;33m\u001b[0m\u001b[0m\n\u001b[0m",
      "\u001b[1;32m<ipython-input-9-a233a2792743>\u001b[0m in \u001b[0;36mget_letter\u001b[1;34m(url)\u001b[0m\n\u001b[0;32m     11\u001b[0m     \u001b[0msoup\u001b[0m \u001b[1;33m=\u001b[0m \u001b[0mBeautifulSoup\u001b[0m\u001b[1;33m(\u001b[0m\u001b[0mhtml\u001b[0m\u001b[1;33m,\u001b[0m\u001b[1;34m'lxml'\u001b[0m\u001b[1;33m)\u001b[0m\u001b[1;33m\u001b[0m\u001b[0m\n\u001b[0;32m     12\u001b[0m     \u001b[0mprint\u001b[0m\u001b[1;33m(\u001b[0m\u001b[0msoup\u001b[0m\u001b[1;33m)\u001b[0m\u001b[1;33m\u001b[0m\u001b[0m\n\u001b[1;32m---> 13\u001b[1;33m     \u001b[0mletter\u001b[0m \u001b[1;33m=\u001b[0m \u001b[0msoup\u001b[0m\u001b[1;33m.\u001b[0m\u001b[0mselect\u001b[0m\u001b[1;33m(\u001b[0m\u001b[1;34m'able > tbody > tr > td > div'\u001b[0m\u001b[1;33m)\u001b[0m\u001b[1;33m[\u001b[0m\u001b[1;36m0\u001b[0m\u001b[1;33m]\u001b[0m\u001b[1;33m.\u001b[0m\u001b[0mtxt\u001b[0m\u001b[1;33m\u001b[0m\u001b[0m\n\u001b[0m\u001b[0;32m     14\u001b[0m \u001b[1;31m#     print(letter)\u001b[0m\u001b[1;33m\u001b[0m\u001b[1;33m\u001b[0m\u001b[0m\n\u001b[0;32m     15\u001b[0m \u001b[1;31m#     body > div.contents > div > div.row > div > table > tbody > tr:nth-child(2) > td > div.bbs_view_txt\u001b[0m\u001b[1;33m\u001b[0m\u001b[1;33m\u001b[0m\u001b[0m\n",
      "\u001b[1;31mIndexError\u001b[0m: list index out of range"
     ]
    }
   ],
   "source": [
    "# url 접속해서 작성글 가져오기\n",
    "\n",
    "\n",
    "#테스트\n",
    "# url = 'http://www.ydp.go.kr/leader/minwon.do;jsessionid=RvyqkGixoAApgcC1gUnvj4GoEmDpRHWKhjpu0Yzm5QM1Q0Z69nNa7Sre3WsVcPWE.web2_servlet_engine1?cfgIdx=3&pageNm=B0101&page=1&op=view&idxId=109094'\n",
    "url = links[10]\n",
    "print(url)\n",
    "\n",
    "def get_letter(url):\n",
    "    html = get_html(url)\n",
    "    soup = BeautifulSoup(html,'lxml')\n",
    "    print(soup)\n",
    "    letter = soup.select('able > tbody > tr > td > div')[0].txt\n",
    "#     print(letter)\n",
    "#     body > div.contents > div > div.row > div > table > tbody > tr:nth-child(2) > td > div.bbs_view_txt\n",
    "\n",
    "    return letter\n",
    "#     body > div.contents > div > div.row > div:nth-child(1) > table > tbody > tr:nth-child(2) > td > div\n",
    "\n",
    "# body > div.contents > div > div.row > div:nth-child(1) > table > tbody > tr:nth-child(2) > td > div\n",
    "\n",
    "print(get_letter(url))\n",
    "\n"
   ]
  },
  {
   "cell_type": "code",
   "execution_count": 10,
   "metadata": {},
   "outputs": [
    {
     "name": "stdout",
     "output_type": "stream",
     "text": [
      "True\n"
     ]
    }
   ],
   "source": [
    "a='http://www.ydp.go.kr/leader/minwon.do;jsessionid=J4WAPIj3U91lpg1S0hV40n1RoDoqNEIah5IpriULvtaTvm8n9cRCYAPGVs4EbbNc.web1_servlet_engine1?cfgIdx=3&pageNm=B0101&page=3&op=view&idxId=109060'\n",
    "b='http://www.ydp.go.kr/leader/minwon.do;jsessionid=J4WAPIj3U91lpg1S0hV40n1RoDoqNEIah5IpriULvtaTvm8n9cRCYAPGVs4EbbNc.web1_servlet_engine1?cfgIdx=3&pageNm=B0101&page=3&op=view&idxId=109060'\n",
    "    \n",
    "print (a==b)"
   ]
  },
  {
   "cell_type": "code",
   "execution_count": 8,
   "metadata": {
    "scrolled": true
   },
   "outputs": [
    {
     "name": "stdout",
     "output_type": "stream",
     "text": [
      "\r\n",
      "\r\n",
      "\r\n",
      "\r\n",
      "\r\n",
      "\r\n",
      "\r\n",
      "\r\n",
      "\r\n",
      "<!DOCTYPE html PUBLIC \"-//W3C//DTD XHTML 1.0 Transitional//EN\" \"http://www.w3.org/TR/xhtml1/DTD/xhtml1-transitional.dtd\">\r\n",
      "<html xmlns=\"http://www.w3.org/1999/xhtml\" xml:lang=\"ko\" lang=\"ko\">\r\n",
      "<head>\r\n",
      "\t<meta http-equiv=\"Content-Type\" content=\"text/html; charset=euc-kr\"/>\r\n",
      "\t<title> 영등포구청 &gt; 페이지 오류 안내</title>\r\n",
      "\t<style type=\"text/css\">\r\n",
      "\tbody, th, td {font-size:12px;font-family:Dotum,sans-serif;color:#000;}\r\n",
      "\r\n",
      "\ta:link {text-decoration:none;color:#000000;}\r\n",
      "\ta:visited{text-decoration:none;color:#000000;}\r\n",
      "\ta:hover {text-decoration:none;color:#304DCE;}\r\n",
      "\ta:active{text-decoration:none;color:#304DCE;}\r\n",
      "\r\n",
      "\t.hide{position:absolute; width:0; height:0; font-size:0; line-height:0; overflow:hidden; visibility:hidden;}\r\n",
      "\r\n",
      "\ttable.tableBox{width:100%; border-top:2px solid #5e99d3; border-bottom:1px solid #5e99d3; letter-spacing:-0.04em; margin:0 0 5px 0;}\r\n",
      "\ttable.tableBox tr.category{background:#f3f8fd url(/images/main/common/bg_boardttl.gif) repeat-x 0 0;}\r\n",
      "\ttable.tableBox th{color:#618dbf; border-right:1px solid #b6cde4; padding:6px 5px 2px 5px; border-bottom:1px solid #b6cde4; letter-spacing:-0.03em; font-weight:bold; text-align:center;}\r\n",
      "\ttable.tableBox th.category{background:#f3f8fd url(/images/main/common/bg_boardttl.gif) repeat-x 0 0;}\r\n",
      "\ttable.tableBox th.rowbg{background:#f8f8f8; color:#717f98;}\r\n",
      "\ttable.tableBox th a{color:#566889;}\r\n",
      "\ttable.tableBox th.colLine{border-left:1px solid #b6cde4;}\r\n",
      "\ttable.tableBox td{border-right:1px solid #dddddd; border-bottom:1px solid #dddddd; padding:8px 5px 5px 5px; font-weight:normal;}\r\n",
      "\ttable.tableBox td.line{border-left:1px solid #dddddd;}\r\n",
      "\ttable.tableBox td ul.tdul{padding:0 5px; margin:0; clear:left; text-align:left;}\r\n",
      "\ttable.tableBox td ul.tdul li{width:100%; padding:3px 0 1px 0; line-height:1.5em; clear:left;}\r\n",
      "\t</style>\r\n",
      "</head>\r\n",
      "<body style=\"padding:30px;\">\r\n",
      "\r\n",
      "<div style=\"text-align:center;\">\r\n",
      "\r\n",
      "<div style=\"padding-bottom:20px;\">\r\n",
      "\t<b>죄송합니다. 요청하신 페이지를 찾을 수 없습니다.</b>\r\n",
      "</div>\r\n",
      "\r\n",
      "<table cellspacing=\"0\" summary=\"페이지 오류 정보\" class=\"tableBox txtCt\">\r\n",
      "<caption class=\"hide\">페이지 오류 정보</caption>\r\n",
      "\t<tbody>\r\n",
      "\t<tr> \r\n",
      "\t\t<th scope=\"row\" class=\"colLine rowbg\">상태코드</th>\r\n",
      "\t\t<td align=\"left\">200</td>\r\n",
      "\t</tr>\r\n",
      "\t<tr> \r\n",
      "\t\t<th scope=\"row\" class=\"colLine rowbg\">메시지</th>\r\n",
      "\t\t<td align=\"left\">\r\n",
      "\t\t</td>\r\n",
      "\t</tr>\r\n",
      "\t<tr> \r\n",
      "\t\t<th width=\"80\" scope=\"row\" class=\"colLine rowbg\">페이지</th>\r\n",
      "\t\t<td align=\"left\">/leader/minwon.do?cfgIdx=3&amp;pageNm=B0101&amp;page=2&amp;op=view&amp;idxId=109083%0A</td>\r\n",
      "\t</tr>\r\n",
      "\t</tbody>\r\n",
      "</table>\r\n",
      "\r\n",
      "<div style=\"padding-top:20px;\">\r\n",
      "\t[<a href=\"/\" onclick=\"history.back(); return false;\">뒤로가기</a>]\r\n",
      "\t&nbsp;&nbsp;&nbsp;\r\n",
      "\t[<a href=\"/\">영등포구청 홈</a>]\r\n",
      "</div>\r\n",
      "\r\n",
      "</div>\r\n",
      "\r\n",
      "\r\n",
      "\r\n",
      "\r\n",
      "</body>\r\n",
      "</html>\n",
      "[]\n"
     ]
    }
   ],
   "source": [
    "# 테스트... 막힘... 네이버 확인결과 이상없음....\n",
    "url=links[4]\n",
    "# url = 'http://news.naver.com/main/main.nhn?mode=LSD&mid=shm&sid1=100'\n",
    "html = get_html(url)\n",
    "print(html)\n",
    "soup = BeautifulSoup(html,'lxml')\n",
    "letter = soup.select('table > tbody > tr > td >div.bbs_view_txt')\n",
    "\n",
    "#main_content > div > div:nth-child(3) > ul\n",
    "\n",
    "print(letter)"
   ]
  },
  {
   "cell_type": "code",
   "execution_count": 7,
   "metadata": {},
   "outputs": [
    {
     "name": "stdout",
     "output_type": "stream",
     "text": [
      "에러발생\n",
      "[]\n",
      "저장완료했습니다\n"
     ]
    }
   ],
   "source": [
    "# 전체 링크에 대해 기사 가져와서 저장하기\n",
    "\n",
    "letters=[]\n",
    "OUTPUT_LETTERS='./data/게시글본문원본100.txt'\n",
    "\n",
    "for link in links[:100]:\n",
    "#     print(link)\n",
    "    try:\n",
    "        letter = get_letter(link)\n",
    "        print(letter)\n",
    "        time.sleep(3+random.uniform(0.5,1.5))\n",
    "        letters.append([letter])\n",
    "        print(letters)\n",
    "        print('전체 {}개 글 중, {}개를 가져오고 있습니다'.format(len(links), len(letters)))\n",
    "        break \n",
    "    except:\n",
    "        print('에러발생')\n",
    "        break\n",
    "    \n",
    "print(letters[-10:])\n",
    "\n",
    "with open(OUTPUT_LETTERS, 'w', encoding='utf-8') as save:\n",
    "    for letter in letters:\n",
    "        save.write(letter)\n",
    "        save.write('\\n')\n",
    "    print('저장완료했습니다')\n",
    "    "
   ]
  },
  {
   "cell_type": "code",
   "execution_count": 34,
   "metadata": {},
   "outputs": [
    {
     "name": "stdout",
     "output_type": "stream",
     "text": [
      "5\n"
     ]
    }
   ],
   "source": [
    "print(len(letters))"
   ]
  }
 ],
 "metadata": {
  "anaconda-cloud": {},
  "kernelspec": {
   "display_name": "Python 3",
   "language": "python",
   "name": "python3"
  },
  "language_info": {
   "codemirror_mode": {
    "name": "ipython",
    "version": 3
   },
   "file_extension": ".py",
   "mimetype": "text/x-python",
   "name": "python",
   "nbconvert_exporter": "python",
   "pygments_lexer": "ipython3",
   "version": "3.6.1"
  }
 },
 "nbformat": 4,
 "nbformat_minor": 1
}
