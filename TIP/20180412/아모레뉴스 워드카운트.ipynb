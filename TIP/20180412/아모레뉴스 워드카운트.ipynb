{
 "cells": [
  {
   "cell_type": "code",
   "execution_count": null,
   "metadata": {},
   "outputs": [],
   "source": [
    "#자료 링크\n",
    "# http://konlpy-ko.readthedocs.io/ko/v0.4.3/start/#what-do-i-need-to-get-started --> Konlpy NLP설치\n",
    "# http://corazzon.github.io/Konlpy_JPype_install_struggle   --> Mac OSX에서 konlpy 설치 시 오류해결\n"
   ]
  },
  {
   "cell_type": "code",
   "execution_count": 1,
   "metadata": {},
   "outputs": [],
   "source": [
    "import konlpy\n",
    "import jpype"
   ]
  },
  {
   "cell_type": "code",
   "execution_count": 3,
   "metadata": {},
   "outputs": [
    {
     "name": "stdout",
     "output_type": "stream",
     "text": [
      "['JPype', '설치', '너무', '까다', '롭습', '니', '다', '.', '몇', '시간', '을', '날렸', '어요', '.']\n"
     ]
    }
   ],
   "source": [
    "import konlpy\n",
    "import jpype\n",
    "from konlpy.tag import Twitter\n",
    "twitter = Twitter()\n",
    "print(twitter.morphs(u'JPype 설치 너무 까다롭습니다. 몇 시간을 날렸어요.')) "
   ]
  },
  {
   "cell_type": "code",
   "execution_count": 21,
   "metadata": {},
   "outputs": [],
   "source": [
    "#-*- coding: utf-8 -*-"
   ]
  },
  {
   "cell_type": "code",
   "execution_count": 4,
   "metadata": {},
   "outputs": [
    {
     "name": "stdout",
     "output_type": "stream",
     "text": [
      "(4906, 7)\n"
     ]
    },
    {
     "data": {
      "text/html": [
       "<div>\n",
       "<style scoped>\n",
       "    .dataframe tbody tr th:only-of-type {\n",
       "        vertical-align: middle;\n",
       "    }\n",
       "\n",
       "    .dataframe tbody tr th {\n",
       "        vertical-align: top;\n",
       "    }\n",
       "\n",
       "    .dataframe thead th {\n",
       "        text-align: right;\n",
       "    }\n",
       "</style>\n",
       "<table border=\"1\" class=\"dataframe\">\n",
       "  <thead>\n",
       "    <tr style=\"text-align: right;\">\n",
       "      <th></th>\n",
       "      <th>기사제목</th>\n",
       "      <th>작성일</th>\n",
       "      <th>기사본문</th>\n",
       "      <th>언론사</th>\n",
       "      <th>URL</th>\n",
       "      <th>댓글 수</th>\n",
       "      <th>댓글파일</th>\n",
       "    </tr>\n",
       "  </thead>\n",
       "  <tbody>\n",
       "    <tr>\n",
       "      <th>0</th>\n",
       "      <td>[베스트리포트]연우, 재도약시점!</td>\n",
       "      <td>2018-04-05</td>\n",
       "      <td>\\n\\n[머니투데이 배규민 기자] 머니투데이 증권부가 5일 선정한 베스트리포트는 나...</td>\n",
       "      <td>머니투데이</td>\n",
       "      <td>http://news.naver.com/main/read.nhn?mode=LSD&amp;m...</td>\n",
       "      <td>0.0</td>\n",
       "      <td>없음</td>\n",
       "    </tr>\n",
       "    <tr>\n",
       "      <th>1</th>\n",
       "      <td>기업 교육플랫폼 '파리바게뜨 배움터', 인적자원개발대상 수상</td>\n",
       "      <td>2018-04-05</td>\n",
       "      <td>\\n\\n사진= 이엠캐스트㈜ 제공\\r\\n에드테크 전문 기업 이엠캐스트㈜(EMCAST,...</td>\n",
       "      <td>조선일보</td>\n",
       "      <td>http://news.naver.com/main/read.nhn?mode=LSD&amp;m...</td>\n",
       "      <td>0.0</td>\n",
       "      <td>없음</td>\n",
       "    </tr>\n",
       "    <tr>\n",
       "      <th>2</th>\n",
       "      <td>2018 제주 레시피 콘서트 참가자 공개모집</td>\n",
       "      <td>2018-04-05</td>\n",
       "      <td>\\n\\n제주창조경제혁신센터, 제주 식재료 활용 콘텐츠 발굴\\r\\n[제주CBS 박정섭...</td>\n",
       "      <td>노컷뉴스</td>\n",
       "      <td>http://news.naver.com/main/read.nhn?mode=LSD&amp;m...</td>\n",
       "      <td>0.0</td>\n",
       "      <td>없음</td>\n",
       "    </tr>\n",
       "    <tr>\n",
       "      <th>3</th>\n",
       "      <td>1분기 주요 화장품사 실적 19% 감소 전망…LG생건·코스맥스는 증가</td>\n",
       "      <td>2018-04-05</td>\n",
       "      <td>\\n\\n\\n[아시아경제 박미주 기자]올해 1분기 주요 6개 화장품 회사들의 실적은 ...</td>\n",
       "      <td>아시아경제</td>\n",
       "      <td>http://news.naver.com/main/read.nhn?mode=LSD&amp;m...</td>\n",
       "      <td>0.0</td>\n",
       "      <td>없음</td>\n",
       "    </tr>\n",
       "    <tr>\n",
       "      <th>4</th>\n",
       "      <td>[마감]코스피, 나흘만에 1%대 반등..기관·외국인 순매수</td>\n",
       "      <td>2018-04-05</td>\n",
       "      <td>\\n\\n삼성전자·SK하이닉스 3%대 올라..기관이 적극 매수[이데일리 최정희 기자]...</td>\n",
       "      <td>이데일리</td>\n",
       "      <td>http://news.naver.com/main/read.nhn?mode=LSD&amp;m...</td>\n",
       "      <td>0.0</td>\n",
       "      <td>없음</td>\n",
       "    </tr>\n",
       "  </tbody>\n",
       "</table>\n",
       "</div>"
      ],
      "text/plain": [
       "                                     기사제목         작성일  \\\n",
       "0                     [베스트리포트]연우, 재도약시점!   2018-04-05   \n",
       "1       기업 교육플랫폼 '파리바게뜨 배움터', 인적자원개발대상 수상  2018-04-05   \n",
       "2                2018 제주 레시피 콘서트 참가자 공개모집  2018-04-05   \n",
       "3  1분기 주요 화장품사 실적 19% 감소 전망…LG생건·코스맥스는 증가  2018-04-05   \n",
       "4        [마감]코스피, 나흘만에 1%대 반등..기관·외국인 순매수  2018-04-05   \n",
       "\n",
       "                                                기사본문    언론사  \\\n",
       "0  \\n\\n[머니투데이 배규민 기자] 머니투데이 증권부가 5일 선정한 베스트리포트는 나...  머니투데이   \n",
       "1  \\n\\n사진= 이엠캐스트㈜ 제공\\r\\n에드테크 전문 기업 이엠캐스트㈜(EMCAST,...   조선일보   \n",
       "2  \\n\\n제주창조경제혁신센터, 제주 식재료 활용 콘텐츠 발굴\\r\\n[제주CBS 박정섭...   노컷뉴스   \n",
       "3  \\n\\n\\n[아시아경제 박미주 기자]올해 1분기 주요 6개 화장품 회사들의 실적은 ...  아시아경제   \n",
       "4  \\n\\n삼성전자·SK하이닉스 3%대 올라..기관이 적극 매수[이데일리 최정희 기자]...   이데일리   \n",
       "\n",
       "                                                 URL  댓글 수 댓글파일  \n",
       "0  http://news.naver.com/main/read.nhn?mode=LSD&m...   0.0   없음  \n",
       "1  http://news.naver.com/main/read.nhn?mode=LSD&m...   0.0   없음  \n",
       "2  http://news.naver.com/main/read.nhn?mode=LSD&m...   0.0   없음  \n",
       "3  http://news.naver.com/main/read.nhn?mode=LSD&m...   0.0   없음  \n",
       "4  http://news.naver.com/main/read.nhn?mode=LSD&m...   0.0   없음  "
      ]
     },
     "execution_count": 4,
     "metadata": {},
     "output_type": "execute_result"
    }
   ],
   "source": [
    "import os\n",
    "import sys\n",
    "import pandas as pd\n",
    "\n",
    "news_path = \"/Users/alexchang/Documents/Crawling/Text 분석 test/180406TIPamorenewstest4906.csv\"\n",
    "chunker = pd.read_csv(news_path, chunksize=500) #500줄씩 끊어서 읽기\n",
    "\n",
    "amore_news = pd.concat([x for x in chunker], ignore_index=True)\n",
    "\n",
    "print(amore_news.shape) # 행/열 수 확인\n",
    "\n",
    "amore_news.head(5)  #5개행만 시험출력... 그런데 본문 텍스트가 잘리는 듯??\n",
    "\n"
   ]
  },
  {
   "cell_type": "code",
   "execution_count": 6,
   "metadata": {},
   "outputs": [
    {
     "data": {
      "text/plain": [
       "0    \\n\\n[머니투데이 배규민 기자] 머니투데이 증권부가 5일 선정한 베스트리포트는 나...\n",
       "1    \\n\\n사진= 이엠캐스트㈜ 제공\\r\\n에드테크 전문 기업 이엠캐스트㈜(EMCAST,...\n",
       "2    \\n\\n제주창조경제혁신센터, 제주 식재료 활용 콘텐츠 발굴\\r\\n[제주CBS 박정섭...\n",
       "Name: 기사본문, dtype: object"
      ]
     },
     "execution_count": 6,
     "metadata": {},
     "output_type": "execute_result"
    }
   ],
   "source": [
    "amore_news['기사본문'][0:3] #본문 길면 잘리는듯?? "
   ]
  },
  {
   "cell_type": "code",
   "execution_count": 8,
   "metadata": {},
   "outputs": [
    {
     "name": "stdout",
     "output_type": "stream",
     "text": [
      "python [모듈 이름] [텍스트 파일명.txt] [단어 개수] [결과파일명.txt]\n"
     ]
    }
   ],
   "source": [
    "# encoding: utf-8\n",
    "\"\"\" 형태소 분석기\n",
    "    명사 추출 및 빈도수 체크\n",
    "    python [모듈 이름] [텍스트 파일명.txt] [결과파일명.txt]\n",
    "\"\"\"\n",
    "import os \n",
    "import sys\n",
    "import konlpy\n",
    "import jpype\n",
    "import pandas as pd\n",
    "from konlpy.tag import Twitter\n",
    "from collections import Counter\n",
    " \n",
    "news_path = \"/Users/alexchang/Documents/Crawling/Text 분석 test/180406TIPamorenewstest4906.csv\"\n",
    "chunker = pd.read_csv(news_path, chunksize=500) #500줄씩 끊어서 읽기\n",
    "\n",
    "amore_news = pd.concat([x for x in chunker], ignore_index=True)\n",
    "\n",
    "def get_tags(text, ntags=50):\n",
    "    spliter = Twitter()\n",
    "    nouns = spliter.nouns(text)\n",
    "    count = Counter(nouns)\n",
    "    return_list = []\n",
    "    for n, c in count.most_common(ntags):\n",
    "        temp = {'tag': n, 'count': c}\n",
    "        return_list.append(temp)\n",
    "    return return_list\n",
    " \n",
    " \n",
    "\n",
    "def main(argv):\n",
    "    if len(argv) != 4:\n",
    "        print('python [모듈 이름] [텍스트 파일명.txt] [단어 개수] [결과파일명.txt]')\n",
    "        return\n",
    "    text_file_name = argv[1]\n",
    "    noun_count = int(argv[2])\n",
    "    output_file_name = argv[3]\n",
    "    open_text_file = open(text_file_name, 'r') #이부분을 판다로 csv로 불러와서... \n",
    "    text = open_text_file.read()\n",
    "    tags = get_tags(text, noun_count)\n",
    "    open_text_file.close()\n",
    "    open_output_file = open('/Users/alexchang/Documents/Crawling/Text 분석 test/output_file_name.txt', 'w') #다시 csv로 결과값 저장\n",
    "    for tag in tags:\n",
    "        noun = tag['tag']\n",
    "        count = tag['count']\n",
    "        open_output_file.write('{} {}\\n'.format(noun, count))\n",
    "    open_output_file.close()\n",
    " \n",
    " \n",
    "if __name__ == '__main__':\n",
    "    main(sys.argv)"
   ]
  },
  {
   "cell_type": "code",
   "execution_count": null,
   "metadata": {},
   "outputs": [],
   "source": []
  },
  {
   "cell_type": "code",
   "execution_count": null,
   "metadata": {},
   "outputs": [],
   "source": []
  },
  {
   "cell_type": "code",
   "execution_count": null,
   "metadata": {},
   "outputs": [],
   "source": []
  },
  {
   "cell_type": "code",
   "execution_count": null,
   "metadata": {},
   "outputs": [],
   "source": []
  }
 ],
 "metadata": {
  "kernelspec": {
   "display_name": "Python 3",
   "language": "python",
   "name": "python3"
  },
  "language_info": {
   "codemirror_mode": {
    "name": "ipython",
    "version": 3
   },
   "file_extension": ".py",
   "mimetype": "text/x-python",
   "name": "python",
   "nbconvert_exporter": "python",
   "pygments_lexer": "ipython3",
   "version": "3.6.4"
  }
 },
 "nbformat": 4,
 "nbformat_minor": 2
}
