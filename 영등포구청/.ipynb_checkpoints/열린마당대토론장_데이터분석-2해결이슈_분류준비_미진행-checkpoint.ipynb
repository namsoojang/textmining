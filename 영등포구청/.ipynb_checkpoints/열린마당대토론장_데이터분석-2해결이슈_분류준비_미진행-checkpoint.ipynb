{
 "cells": [
  {
   "cell_type": "markdown",
   "metadata": {},
   "source": [
    "# 2. (내가 슈퍼맨이라면) 영등포에서 가장 먼저 해결해야 할 문제는?"
   ]
  },
  {
   "cell_type": "markdown",
   "metadata": {},
   "source": [
    " - 데이터 불러오기"
   ]
  },
  {
   "cell_type": "code",
   "execution_count": 2,
   "metadata": {
    "collapsed": true
   },
   "outputs": [],
   "source": [
    "import pandas as pd"
   ]
  },
  {
   "cell_type": "code",
   "execution_count": 3,
   "metadata": {
    "collapsed": true
   },
   "outputs": [],
   "source": [
    "# 파일을 읽어온다\n",
    "input_file = './data/yeongdengpo.xlsx'\n",
    "debates = pd.read_excel(input_file, sheetname='제2토론 ')"
   ]
  },
  {
   "cell_type": "code",
   "execution_count": 4,
   "metadata": {
    "scrolled": true
   },
   "outputs": [
    {
     "data": {
      "text/plain": [
       "<bound method NDFrame.head of        조  번호                           의제     분류 세부분류 \n",
       "0     1조   1                      다문화인식개선    다문화   다문화\n",
       "1    NaN   2  지역별 환경과 청소년 발달에 맞는 교육프로그램지원     교육   청소년\n",
       "2    NaN   3                        교육/문화     교육   청소년\n",
       "3    NaN   4              도시재생, 커뮤니티공간 마련   커뮤니티    도시\n",
       "4    NaN   5                       쓰레기 문제     환경   쓰레기\n",
       "5    NaN   6                미세먼지와 낙후지역 발전  환경,경제  미세먼지\n",
       "6    NaN   7                       쓰레기 문제     환경   쓰레기\n",
       "7    NaN   8                           환경     환경   NaN\n",
       "8    NaN   9        영일시장 근처 보행로 확보( 보행안전)     안전   NaN\n",
       "9     2조   1                         버스소음     환경   NaN\n",
       "10   NaN   2        당산역부근 호텔과다건설로 인한 교통난      교통   NaN\n",
       "11   NaN   3                   영등포역 KTX정차     교통   NaN\n",
       "12   NaN   4              영등포역 도로변 인도 확보      안전   NaN\n",
       "13   NaN   5                문래동 중공업거리 개선      교통   NaN\n",
       "14   NaN   6       노인분들을 위한 상담서비스 또는 시설개선     노인   NaN\n",
       "15   NaN   7                           협력   커뮤니티   NaN\n",
       "16   NaN   8                    분야별 고른 발전     전부   NaN\n",
       "17   NaN   9                      주민간에 소통   커뮤니티   NaN\n",
       "18    3조   1                           교육     교육   NaN\n",
       "19   NaN   2                          없다~     전부   NaN\n",
       "20   NaN   3                재개발로인한 엉망 먼지등     환경   NaN\n",
       "21   NaN   4  주차할공간이 없지만 주차를 해결했으면 좋겠습니다      주차   NaN\n",
       "22   NaN   5            놀이터주변 흡연자,  쓰레기문제     환경   NaN\n",
       "23   NaN   6     다문화가족을 위한 취직일관련 부모함께살기방안    다문화   NaN\n",
       "24   NaN   7                외국인국적취득질문내용개선     행정   NaN\n",
       "25   NaN   8            대림2동 다문화지역생활환경개선     다문화   NaN\n",
       "26   NaN   9                       상업지구발굴     경제   NaN\n",
       "27    4조   1                          NaN    NaN   NaN\n",
       "28   NaN   2                      중공업지역개선     경제   NaN\n",
       "29   NaN   3                영등포역 주변 환경 개선     환경   NaN\n",
       "..   ...  ..                          ...    ...   ...\n",
       "114  NaN   7                          NaN    NaN   NaN\n",
       "115  NaN   8                          NaN    NaN   NaN\n",
       "116  NaN   9                         주거환경     환경   NaN\n",
       "117  14조   1                          NaN    NaN   NaN\n",
       "118  NaN   2                          NaN    NaN   NaN\n",
       "119  NaN   3                          NaN    NaN   NaN\n",
       "120  NaN   4                          NaN    NaN   NaN\n",
       "121  NaN   5                          NaN    NaN   NaN\n",
       "122  NaN   6                          NaN    NaN   NaN\n",
       "123  NaN   7                          NaN    NaN   NaN\n",
       "124  NaN   8                          NaN    NaN   NaN\n",
       "125  NaN   9                          NaN    NaN   NaN\n",
       "126  15조   1                          NaN    NaN   NaN\n",
       "127  NaN   2                          NaN    NaN   NaN\n",
       "128  NaN   3                          NaN    NaN   NaN\n",
       "129  NaN   4                          NaN    NaN   NaN\n",
       "130  NaN   5                          NaN    NaN   NaN\n",
       "131  NaN   6                          NaN    NaN   NaN\n",
       "132  NaN   7                          NaN    NaN   NaN\n",
       "133  NaN   8                          NaN    NaN   NaN\n",
       "134  NaN   9                          NaN    NaN   NaN\n",
       "135  16조   1                          NaN    NaN   NaN\n",
       "136  NaN   2                          NaN    NaN   NaN\n",
       "137  NaN   3                          NaN    NaN   NaN\n",
       "138  NaN   4                          NaN    NaN   NaN\n",
       "139  NaN   5                          NaN    NaN   NaN\n",
       "140  NaN   6                          NaN    NaN   NaN\n",
       "141  NaN   7                          NaN    NaN   NaN\n",
       "142  NaN   8                          NaN    NaN   NaN\n",
       "143  NaN   9                          NaN    NaN   NaN\n",
       "\n",
       "[144 rows x 5 columns]>"
      ]
     },
     "execution_count": 4,
     "metadata": {},
     "output_type": "execute_result"
    }
   ],
   "source": [
    "debates.head"
   ]
  },
  {
   "cell_type": "code",
   "execution_count": 5,
   "metadata": {},
   "outputs": [
    {
     "data": {
      "text/plain": [
       "Index(['조', '번호', '의제', '분류', '세부분류 '], dtype='object')"
      ]
     },
     "execution_count": 5,
     "metadata": {},
     "output_type": "execute_result"
    }
   ],
   "source": [
    "debates.columns"
   ]
  },
  {
   "cell_type": "code",
   "execution_count": 6,
   "metadata": {
    "scrolled": true
   },
   "outputs": [
    {
     "data": {
      "text/plain": [
       "교육        20\n",
       "환경        19\n",
       "경제         9\n",
       "안전         8\n",
       "다문화        7\n",
       "커뮤니티       7\n",
       "교통         5\n",
       "복지         5\n",
       "전부         4\n",
       "예술         2\n",
       "행정         1\n",
       "환경,경제      1\n",
       "노인         1\n",
       "주차         1\n",
       "커뮤니케이션     1\n",
       "Name: 분류, dtype: int64"
      ]
     },
     "execution_count": 6,
     "metadata": {},
     "output_type": "execute_result"
    }
   ],
   "source": [
    "debates['분류'].value_counts()"
   ]
  },
  {
   "cell_type": "markdown",
   "metadata": {},
   "source": [
    " - 분류를 통한 워드클라우드"
   ]
  },
  {
   "cell_type": "code",
   "execution_count": 11,
   "metadata": {
    "collapsed": true
   },
   "outputs": [],
   "source": [
    "#복수의 응답을 했을 경우  ','  로 구분.\n",
    "#빈칸은 지움\n",
    "\n",
    "datas = []\n",
    "for answers in debates['분류'].dropna():\n",
    "#     print(answers, type(answers))\n",
    "    datas +=answers.split(',')\n"
   ]
  },
  {
   "cell_type": "code",
   "execution_count": 12,
   "metadata": {
    "collapsed": true
   },
   "outputs": [],
   "source": [
    "# 워드클라우드 준비\n",
    "%matplotlib inline\n",
    "\n",
    "from collections import Counter"
   ]
  },
  {
   "cell_type": "code",
   "execution_count": 13,
   "metadata": {
    "collapsed": true
   },
   "outputs": [],
   "source": [
    "# most common 단어 정리'\n",
    "\n",
    "def words_most_common(words):\n",
    "    words_count=Counter()\n",
    "    words_count.update(words)   # , 로 분류된 단어들은 한번에 들어감\n",
    "   \n",
    "    return words_count.most_common()"
   ]
  },
  {
   "cell_type": "code",
   "execution_count": 14,
   "metadata": {
    "collapsed": true
   },
   "outputs": [],
   "source": [
    "words_count = words_most_common(datas)   "
   ]
  },
  {
   "cell_type": "code",
   "execution_count": 16,
   "metadata": {},
   "outputs": [
    {
     "name": "stdout",
     "output_type": "stream",
     "text": [
      "총 92개의 답변 중 중복을 제외하면 14 종류의 답변이 나왔습니다.\n",
      "\n",
      "가장 많이 나온 답변순으로 교육(20건, 21%), 환경(20건, 21%), 경제(10건, 10%) (으)로 나왔습니다. \n",
      "\n",
      "\n",
      "※ 상위 7개 답변\n",
      "   -1번째: 교육(20건, 21%)\n",
      "   -2번째: 환경(20건, 21%)\n",
      "   -3번째: 경제(10건, 10%)\n",
      "   -4번째: 안전(8건, 8%)\n",
      "   -5번째: 다문화(7건, 7%)\n",
      "   -6번째: 커뮤니티(7건, 7%)\n",
      "   -7번째: 교통(5건, 5%)\n"
     ]
    }
   ],
   "source": [
    "# 답변 요약 정리\n",
    "\n",
    "reply_count = len(datas)   #답변 전체 숫자\n",
    "words_set = len(words_count)   #답변 종류 개수\n",
    "\n",
    "def word(i): return words_count[int(i)-1][0]     # i번째 글자\n",
    "def word_count(i): return words_count[(int(i)-1)][1]    # i번째 글자가 나온 횟수\n",
    "def word_ranking(i):     # 글자/횟수/비중 표시\n",
    "    results = '{}({}건, {}%)'.format(word(i),word_count(i),int(words_count[int(i)-1][1]/reply_count*100))\n",
    "    return results\n",
    "\n",
    "# 답변 요약 정리 표시\n",
    "print(\"총 {}개의 답변 중 중복을 제외하면 {} 종류의 답변이 나왔습니다.\\n\".format(reply_count, words_set))\n",
    "print(\"가장 많이 나온 답변순으로 {}, {}, {} (으)로 나왔습니다. \\n\\n\". \\\n",
    "      format(word_ranking(1),word_ranking(2),word_ranking(3)))   \n",
    "\n",
    "print('※ 상위 7개 답변')\n",
    "for i in range(7):\n",
    "    print('   -{}번째: {}'.format(i+1, word_ranking(i+1)))"
   ]
  },
  {
   "cell_type": "code",
   "execution_count": null,
   "metadata": {
    "collapsed": true
   },
   "outputs": [],
   "source": []
  },
  {
   "cell_type": "markdown",
   "metadata": {},
   "source": [
    "## 추가) SNA 분석"
   ]
  },
  {
   "cell_type": "markdown",
   "metadata": {},
   "source": [
    " - SNA 분석\n"
   ]
  },
  {
   "cell_type": "code",
   "execution_count": null,
   "metadata": {
    "collapsed": true
   },
   "outputs": [],
   "source": []
  },
  {
   "cell_type": "code",
   "execution_count": 32,
   "metadata": {
    "collapsed": true
   },
   "outputs": [],
   "source": [
    "# 데이터 정리하기. 의제/분류/세부분류/ 를 모두 합친다\n",
    "debates['total' ] = debates['의제'].fillna(',')+','+debates['분류'].fillna(',') + ','+debates['세부분류 '].fillna(',')"
   ]
  },
  {
   "cell_type": "code",
   "execution_count": 33,
   "metadata": {
    "scrolled": true
   },
   "outputs": [
    {
     "name": "stdout",
     "output_type": "stream",
     "text": [
      "0                         다문화인식개선,다문화,다문화\n",
      "1      지역별 환경과 청소년 발달에 맞는 교육프로그램지원,교육,청소년\n",
      "2                            교육/문화,교육,청소년\n",
      "3                 도시재생, 커뮤니티공간 마련,커뮤니티,도시\n",
      "4                           쓰레기 문제,환경,쓰레기\n",
      "5                미세먼지와 낙후지역 발전,환경,경제,미세먼지\n",
      "6                           쓰레기 문제,환경,쓰레기\n",
      "7                                 환경,환경,,\n",
      "8              영일시장 근처 보행로 확보( 보행안전),안전,,\n",
      "9                               버스소음,환경,,\n",
      "10             당산역부근 호텔과다건설로 인한 교통난 ,교통,,\n",
      "11                        영등포역 KTX정차,교통,,\n",
      "12                   영등포역 도로변 인도 확보 ,안전,,\n",
      "13                     문래동 중공업거리 개선 ,교통,,\n",
      "14            노인분들을 위한 상담서비스 또는 시설개선,노인,,\n",
      "15                              협력,커뮤니티,,\n",
      "16                         분야별 고른 발전,전부,,\n",
      "17                         주민간에 소통,커뮤니티,,\n",
      "18                                교육,교육,,\n",
      "19                               없다~,전부,,\n",
      "20                     재개발로인한 엉망 먼지등,환경,,\n",
      "21       주차할공간이 없지만 주차를 해결했으면 좋겠습니다 ,주차,,\n",
      "22                 놀이터주변 흡연자,  쓰레기문제,환경,,\n",
      "23         다문화가족을 위한 취직일관련 부모함께살기방안,다문화,,\n",
      "24                     외국인국적취득질문내용개선,행정,,\n",
      "25                대림2동 다문화지역생활환경개선 ,다문화,,\n",
      "26                            상업지구발굴,경제,,\n",
      "27                                  ,,,,,\n",
      "28                           중공업지역개선,경제,,\n",
      "29                     영등포역 주변 환경 개선,환경,,\n",
      "                      ...                \n",
      "114                                 ,,,,,\n",
      "115                                 ,,,,,\n",
      "116                             주거환경,환경,,\n",
      "117                                 ,,,,,\n",
      "118                                 ,,,,,\n",
      "119                                 ,,,,,\n",
      "120                                 ,,,,,\n",
      "121                                 ,,,,,\n",
      "122                                 ,,,,,\n",
      "123                                 ,,,,,\n",
      "124                                 ,,,,,\n",
      "125                                 ,,,,,\n",
      "126                                 ,,,,,\n",
      "127                                 ,,,,,\n",
      "128                                 ,,,,,\n",
      "129                                 ,,,,,\n",
      "130                                 ,,,,,\n",
      "131                                 ,,,,,\n",
      "132                                 ,,,,,\n",
      "133                                 ,,,,,\n",
      "134                                 ,,,,,\n",
      "135                                 ,,,,,\n",
      "136                                 ,,,,,\n",
      "137                                 ,,,,,\n",
      "138                                 ,,,,,\n",
      "139                                 ,,,,,\n",
      "140                                 ,,,,,\n",
      "141                                 ,,,,,\n",
      "142                                 ,,,,,\n",
      "143                                 ,,,,,\n",
      "Name: total, Length: 144, dtype: object\n"
     ]
    }
   ],
   "source": [
    "print(debates['total'])"
   ]
  },
  {
   "cell_type": "code",
   "execution_count": 34,
   "metadata": {
    "collapsed": true
   },
   "outputs": [],
   "source": [
    "datas_sna = []\n",
    "for data in debates['total'].dropna():\n",
    "    datas_sna.append(data)\n"
   ]
  },
  {
   "cell_type": "code",
   "execution_count": 35,
   "metadata": {},
   "outputs": [
    {
     "name": "stdout",
     "output_type": "stream",
     "text": [
      "144\n",
      "['다문화인식개선,다문화,다문화', '지역별 환경과 청소년 발달에 맞는 교육프로그램지원,교육,청소년', '교육/문화,교육,청소년', '도시재생, 커뮤니티공간 마련,커뮤니티,도시', '쓰레기 문제,환경,쓰레기', '미세먼지와 낙후지역 발전,환경,경제,미세먼지', '쓰레기 문제,환경,쓰레기', '환경,환경,,', '영일시장 근처 보행로 확보( 보행안전),안전,,', '버스소음,환경,,']\n"
     ]
    }
   ],
   "source": [
    "print(len(datas_sna))\n",
    "print(datas_sna[:10])"
   ]
  },
  {
   "cell_type": "markdown",
   "metadata": {},
   "source": [
    " - 형태소 분석하기"
   ]
  },
  {
   "cell_type": "code",
   "execution_count": 29,
   "metadata": {
    "collapsed": true
   },
   "outputs": [],
   "source": [
    "from konlpy.tag import Komoran"
   ]
  },
  {
   "cell_type": "code",
   "execution_count": 36,
   "metadata": {
    "collapsed": true
   },
   "outputs": [],
   "source": [
    "# 댓글별 형태소 분석하기\n",
    "\n",
    "ma_results = []\n",
    "komoran = Komoran()\n",
    "\n",
    "for line in datas_sna:\n",
    "    ma_by_line=komoran.pos(line)\n",
    "    ma_results.append(ma_by_line)\n",
    "\n",
    "#gprint(ma_results)"
   ]
  },
  {
   "cell_type": "code",
   "execution_count": 37,
   "metadata": {},
   "outputs": [
    {
     "name": "stdout",
     "output_type": "stream",
     "text": [
      "144\n",
      "[[('다문화', 'NNP'), ('인식', 'NNG'), ('개선', 'NNG'), (',', 'SP'), ('다문화', 'NNP'), (',', 'SP'), ('다문화', 'NNP')], [('지역', 'NNG'), ('별', 'XSN'), ('환경', 'NNG'), ('과', 'JC'), ('청소년', 'NNG'), ('발달', 'NNG'), ('에', 'JKB'), ('맞', 'VV'), ('는', 'ETM'), ('교육', 'NNG'), ('프로그램', 'NNG'), ('지원', 'NNG'), (',', 'SP'), ('교육', 'NNG'), (',', 'SP'), ('청소년', 'NNG')]]\n"
     ]
    }
   ],
   "source": [
    "print(len(ma_results))\n",
    "print(ma_results[:2])\n"
   ]
  },
  {
   "cell_type": "code",
   "execution_count": 38,
   "metadata": {},
   "outputs": [
    {
     "name": "stdout",
     "output_type": "stream",
     "text": [
      "[['다문화', '개선', '인식'], ['프로그램', '청소년', '지역', '환경', '발달', '교육', '지원'], ['청소년', '교육', '문화'], ['커뮤니티', '공간', '마련', '도시재생', '도시'], ['환경', '쓰레기', '문제']]\n"
     ]
    }
   ],
   "source": [
    "# 댓글별 원하는 품사만 저장하기\n",
    "# STOPWORD 제외하기\n",
    "\n",
    "FILTER_IN_POSES=['NNG','NNP']   \n",
    "# FILTER_IN_POSES_AD1=['XR']     #어근.~하다 ex) 유쾌  \n",
    "# FILTER_IN_POSES_AD2=['VA']      #형용사. ~다 ex) 쉽, 어렵\n",
    "FILTER_IN_POSES_AD1=[]    #명사만 테스트\n",
    "FILTER_IN_POSES_AD2=[]    #명사만 테스트\n",
    "\n",
    "#NNG 일반명사  NNP 고유명사 XR 어근 (~하다) VA 형용사(~다)\n",
    "STOPWORD=[]   #분석에서 제외할 단어 추가 필요\n",
    "\n",
    "ma_results_selected=[]\n",
    "\n",
    "for ma_result in ma_results:\n",
    "    ma_selected=[]\n",
    "    for morph_lex, morph_cat in ma_result:\n",
    "        if morph_lex in STOPWORD:\n",
    "            continue\n",
    "        elif morph_cat in FILTER_IN_POSES:   # 일반명사이거나 고유명사일 경우 포함한다\n",
    "            ma_selected.append(morph_lex)   \n",
    "        elif morph_cat in FILTER_IN_POSES_AD1:\n",
    "            ma_selected.append(morph_lex+'하다')\n",
    "        elif morph_cat in FILTER_IN_POSES_AD2:\n",
    "            ma_selected.append(morph_lex+'다')\n",
    "        else:\n",
    "            continue\n",
    "        ma_selected=list(set(ma_selected))   #중복은 제외: 한 사람이 동일한 단어 여러번 이야기 했을 경우 제외함\n",
    "    ma_results_selected.append(ma_selected)\n",
    "    \n",
    "print(ma_results_selected[:5])\n",
    "            \n",
    "            "
   ]
  },
  {
   "cell_type": "code",
   "execution_count": 39,
   "metadata": {
    "collapsed": true
   },
   "outputs": [],
   "source": [
    "# 단어 관계 행렬 쓰기 \n",
    "from collections import Counter\n",
    "from itertools import combinations\n",
    "\n",
    "word_cooc_mat=Counter()\n",
    "\n",
    "for line in ma_results_selected:\n",
    "    for word1, word2 in combinations(line,2):\n",
    "#         print(word1, word2)\n",
    "        if word1 == word2 : continue\n",
    "        if word_cooc_mat[(word2,word1)] > 1 : word_cooc_mat[(word2, word1)] +=1\n",
    "        else:\n",
    "            word_cooc_mat[(word1,word2)]+=1"
   ]
  },
  {
   "cell_type": "code",
   "execution_count": 40,
   "metadata": {
    "scrolled": true
   },
   "outputs": [
    {
     "name": "stdout",
     "output_type": "stream",
     "text": [
      "[('환경', '쓰레기', 9), ('환경', '문제', 8), ('쓰레기', '문제', 7), ('환경', '개선', 6), ('커뮤니티', '소통', 4), ('학교', '교육', 4), ('청소년', '교육', 3), ('환경', '교육', 3), ('낙후', '경제', 3), ('관련', '다문화', 3), ('교육', '영등포구', 3), ('교육', '아이', 3), ('다문화', '개선', 2), ('청소년', '지원', 2), ('지역', '환경', 2), ('교육', '지원', 2), ('경제', '발전', 2), ('확보', '안전', 2), ('안전', '영등포역', 2), ('거리', '개선', 2), ('문래동', '교통', 2), ('중공업', '개선', 2), ('주민', '커뮤니티', 2), ('주민', '소통', 2), ('환경', '주변', 2), ('경제', '개선', 2), ('쓰레기', '분리', 2), ('환경', '분리', 2), ('교육', '명문고', 2), ('영등포구', '명문고', 2), ('전부', '생각', 2), ('청소년', '아동', 2), ('환경', '안전', 2), ('낙후', '개선', 2), ('개선', '영등포역', 2), ('경제', '도시재생', 2), ('복지', '문제', 2), ('부족', '교육', 2), ('교통', '문제', 2), ('다문화', '인식', 1), ('개선', '인식', 1), ('프로그램', '청소년', 1), ('프로그램', '지역', 1), ('프로그램', '환경', 1), ('프로그램', '발달', 1), ('프로그램', '교육', 1), ('프로그램', '지원', 1), ('청소년', '지역', 1), ('청소년', '환경', 1), ('청소년', '발달', 1), ('지역', '발달', 1), ('지역', '교육', 1), ('지역', '지원', 1), ('환경', '발달', 1), ('환경', '지원', 1), ('발달', '교육', 1), ('발달', '지원', 1), ('청소년', '문화', 1), ('교육', '문화', 1), ('커뮤니티', '공간', 1), ('커뮤니티', '마련', 1), ('커뮤니티', '도시재생', 1), ('커뮤니티', '도시', 1), ('공간', '마련', 1), ('공간', '도시재생', 1), ('공간', '도시', 1), ('마련', '도시재생', 1), ('마련', '도시', 1), ('도시재생', '도시', 1), ('낙후', '미세먼지', 1), ('낙후', '지역', 1), ('낙후', '환경', 1), ('낙후', '발전', 1), ('미세먼지', '지역', 1), ('미세먼지', '환경', 1), ('미세먼지', '경제', 1), ('미세먼지', '발전', 1), ('지역', '경제', 1), ('지역', '발전', 1), ('환경', '경제', 1), ('환경', '발전', 1), ('근처', '확보', 1), ('근처', '보행', 1), ('근처', '시장', 1), ('근처', '안전', 1), ('근처', '영일', 1), ('확보', '보행', 1), ('확보', '시장', 1), ('확보', '영일', 1), ('보행', '시장', 1), ('보행', '안전', 1), ('보행', '영일', 1), ('시장', '안전', 1), ('시장', '영일', 1), ('안전', '영일', 1), ('버스', '환경', 1), ('버스', '소음', 1), ('환경', '소음', 1), ('호텔', '당산역', 1), ('호텔', '건설', 1), ('호텔', '부근', 1), ('호텔', '과다', 1), ('호텔', '교통', 1), ('호텔', '교통난', 1), ('당산역', '건설', 1), ('당산역', '부근', 1), ('당산역', '과다', 1), ('당산역', '교통', 1), ('당산역', '교통난', 1), ('건설', '부근', 1), ('건설', '과다', 1), ('건설', '교통', 1), ('건설', '교통난', 1), ('부근', '과다', 1), ('부근', '교통', 1), ('부근', '교통난', 1), ('과다', '교통', 1), ('과다', '교통난', 1), ('교통', '교통난', 1), ('영등포역', '정차', 1), ('영등포역', '교통', 1), ('정차', '교통', 1), ('확보', '도로변', 1), ('확보', '영등포역', 1), ('확보', '인도', 1), ('도로변', '안전', 1), ('도로변', '영등포역', 1), ('도로변', '인도', 1), ('안전', '인도', 1), ('영등포역', '인도', 1), ('거리', '문래동', 1), ('거리', '중공업', 1), ('거리', '교통', 1), ('문래동', '중공업', 1), ('문래동', '개선', 1), ('중공업', '교통', 1), ('개선', '교통', 1), ('시설', '노인', 1), ('시설', '상담', 1), ('시설', '개선', 1), ('시설', '서비스', 1), ('노인', '상담', 1), ('노인', '개선', 1), ('노인', '서비스', 1), ('상담', '개선', 1), ('상담', '서비스', 1), ('개선', '서비스', 1), ('협력', '커뮤니티', 1), ('분야', '전부', 1), ('분야', '발전', 1), ('전부', '발전', 1), ('엉망', '환경', 1), ('엉망', '재개발', 1), ('엉망', '먼지', 1), ('환경', '재개발', 1), ('환경', '먼지', 1), ('재개발', '먼지', 1), ('주차', '공간', 1), ('주차', '해결', 1), ('공간', '해결', 1), ('흡연자', '쓰레기', 1), ('흡연자', '놀이터', 1), ('흡연자', '환경', 1), ('흡연자', '주변', 1), ('흡연자', '문제', 1), ('쓰레기', '놀이터', 1), ('쓰레기', '주변', 1), ('놀이터', '환경', 1), ('놀이터', '주변', 1), ('놀이터', '문제', 1), ('주변', '문제', 1), ('일', '관련', 1), ('일', '다문화', 1), ('일', '부모', 1), ('일', '다문화가족', 1), ('일', '방안', 1), ('일', '취직', 1), ('관련', '부모', 1), ('관련', '다문화가족', 1), ('관련', '방안', 1), ('관련', '취직', 1), ('다문화', '부모', 1), ('다문화', '다문화가족', 1), ('다문화', '방안', 1), ('다문화', '취직', 1), ('부모', '다문화가족', 1), ('부모', '방안', 1), ('부모', '취직', 1), ('다문화가족', '방안', 1), ('다문화가족', '취직', 1), ('방안', '취직', 1), ('개선', '국적', 1), ('개선', '행정', 1), ('개선', '내용', 1), ('개선', '외국인', 1), ('개선', '취득', 1), ('개선', '질문', 1), ('국적', '행정', 1), ('국적', '내용', 1), ('국적', '외국인', 1), ('국적', '취득', 1), ('국적', '질문', 1), ('행정', '내용', 1), ('행정', '외국인', 1), ('행정', '취득', 1), ('행정', '질문', 1), ('내용', '외국인', 1), ('내용', '취득', 1), ('내용', '질문', 1), ('외국인', '취득', 1), ('외국인', '질문', 1), ('취득', '질문', 1), ('개선', '지역', 1), ('개선', '다문화', 1), ('개선', '대림', 1), ('개선', '생활환경', 1), ('지역', '다문화', 1), ('지역', '대림', 1), ('지역', '생활환경', 1), ('다문화', '대림', 1), ('다문화', '생활환경', 1), ('대림', '생활환경', 1), ('발굴', '경제', 1), ('발굴', '상업지구', 1), ('경제', '상업지구', 1), ('경제', '지역', 1), ('경제', '중공업', 1), ('지역', '중공업', 1), ('지역', '개선', 1), ('영등포역', '환경', 1), ('영등포역', '주변', 1), ('영등포역', '개선', 1), ('주변', '개선', 1), ('처리', '쓰레기', 1), ('처리', '환경', 1), ('처리', '분리', 1), ('처리', '문제', 1), ('분리', '문제', 1), ('장', '쓰레기', 1), ('장', '환경', 1), ('장', '다리', 1), ('장', '분리', 1), ('장', '샛강', 1), ('장', '자전거', 1), ('쓰레기', '다리', 1), ('쓰레기', '샛강', 1), ('쓰레기', '자전거', 1), ('환경', '다리', 1), ('환경', '샛강', 1), ('환경', '자전거', 1), ('다리', '분리', 1), ('다리', '샛강', 1), ('다리', '자전거', 1), ('분리', '샛강', 1), ('분리', '자전거', 1), ('샛강', '자전거', 1), ('활동', '커뮤니티', 1), ('활동', '소통', 1), ('활동', '예술인', 1), ('활동', '활성', 1), ('활동', '작업', 1), ('활동', '지원', 1), ('활동', '주민', 1), ('커뮤니티', '예술인', 1), ('커뮤니티', '활성', 1), ('커뮤니티', '작업', 1), ('커뮤니티', '지원', 1), ('커뮤니티', '주민', 1), ('소통', '예술인', 1), ('소통', '활성', 1), ('소통', '작업', 1), ('소통', '지원', 1), ('소통', '주민', 1), ('예술인', '활성', 1), ('예술인', '작업', 1), ('예술인', '지원', 1), ('예술인', '주민', 1), ('활성', '작업', 1), ('활성', '지원', 1), ('활성', '주민', 1), ('작업', '지원', 1), ('작업', '주민', 1), ('지원', '주민', 1), ('보행', '복지', 1), ('보행', '청소년', 1), ('보행', '아동', 1), ('복지', '청소년', 1), ('복지', '아동', 1), ('환경', '거리', 1), ('안전', '거리', 1), ('안전', '개선', 1), ('예술', '문래', 1), ('예술', '착', 1), ('예술', '활성', 1), ('예술', '창', 1), ('문래', '착', 1), ('문래', '활성', 1), ('문래', '창', 1), ('착', '활성', 1), ('착', '창', 1), ('활성', '창', 1), ('교육', '환경', 1), ('낙후', '영등포역', 1), ('낙후', '후문', 1), ('개선', '경제', 1), ('개선', '후문', 1), ('경제', '영등포역', 1), ('경제', '후문', 1), ('영등포역', '후문', 1), ('환경', '조성', 1), ('환경', '다문화', 1), ('조성', '다문화', 1), ('경제', '편차', 1), ('편차', '도시재생', 1), ('안전', '영등포구', 1), ('안전', '소방시설', 1), ('영등포구', '소방시설', 1), ('주차', '쓰레기', 1), ('주차', '환경', 1), ('주차', '문제', 1), ('아이', '안전', 1), ('아이', '길', 1), ('안전', '길', 1), ('관련', '환경문제', 1), ('관련', '개선', 1), ('다문화', '환경문제', 1), ('환경문제', '개선', 1), ('환경', '공해', 1), ('안', '전부', 1), ('안', '남', 1), ('안', '생각', 1), ('전부', '남', 1), ('남', '생각', 1), ('과일', '중학교', 1), ('과일', '가게', 1), ('과일', '등하교', 1), ('과일', '도로', 1), ('과일', '개선', 1), ('과일', '앞', 1), ('과일', '환경', 1), ('과일', '안전', 1), ('과일', '영등포역', 1), ('과일', '아이', 1), ('과일', '영', 1), ('과일', '포장마차', 1), ('과일', '문제', 1), ('중학교', '가게', 1), ('중학교', '등하교', 1), ('중학교', '도로', 1), ('중학교', '개선', 1), ('중학교', '앞', 1), ('중학교', '환경', 1), ('중학교', '안전', 1), ('중학교', '영등포역', 1), ('중학교', '아이', 1), ('중학교', '영', 1), ('중학교', '포장마차', 1), ('중학교', '문제', 1), ('가게', '등하교', 1), ('가게', '도로', 1), ('가게', '개선', 1), ('가게', '앞', 1), ('가게', '환경', 1), ('가게', '안전', 1), ('가게', '영등포역', 1), ('가게', '아이', 1), ('가게', '영', 1), ('가게', '포장마차', 1), ('가게', '문제', 1), ('등하교', '도로', 1), ('등하교', '개선', 1), ('등하교', '앞', 1), ('등하교', '환경', 1), ('등하교', '안전', 1), ('등하교', '영등포역', 1), ('등하교', '아이', 1), ('등하교', '영', 1), ('등하교', '포장마차', 1), ('등하교', '문제', 1), ('도로', '개선', 1), ('도로', '앞', 1), ('도로', '환경', 1), ('도로', '안전', 1), ('도로', '영등포역', 1), ('도로', '아이', 1), ('도로', '영', 1), ('도로', '포장마차', 1), ('도로', '문제', 1), ('개선', '앞', 1), ('개선', '안전', 1), ('개선', '아이', 1), ('개선', '영', 1), ('개선', '포장마차', 1), ('개선', '문제', 1), ('앞', '환경', 1), ('앞', '안전', 1), ('앞', '영등포역', 1), ('앞', '아이', 1), ('앞', '영', 1), ('앞', '포장마차', 1), ('앞', '문제', 1), ('환경', '영등포역', 1), ('환경', '아이', 1), ('환경', '영', 1), ('환경', '포장마차', 1), ('안전', '아이', 1), ('안전', '영', 1), ('안전', '포장마차', 1), ('안전', '문제', 1), ('영등포역', '아이', 1), ('영등포역', '영', 1), ('영등포역', '포장마차', 1), ('영등포역', '문제', 1), ('아이', '영', 1), ('아이', '포장마차', 1), ('아이', '문제', 1), ('영', '포장마차', 1), ('영', '문제', 1), ('포장마차', '문제', 1), ('복지', '교육', 1), ('복지', '아이', 1), ('지원', '아이', 1), ('지원', '적극', 1), ('지원', '복지', 1), ('아이', '적극', 1), ('아이', '복지', 1), ('적극', '복지', 1), ('측면', '통장', 1), ('측면', '커뮤니티', 1), ('측면', '개선', 1), ('통장', '커뮤니티', 1), ('통장', '개선', 1), ('커뮤니티', '개선', 1), ('커뮤니티', '예산', 1), ('커뮤니티', '균등', 1), ('커뮤니티', '지역', 1), ('커뮤니티', '분배', 1), ('커뮤니티', '원활', 1), ('커뮤니티', '세대', 1), ('예산', '소통', 1), ('예산', '균등', 1), ('예산', '지역', 1), ('예산', '분배', 1), ('예산', '원활', 1), ('예산', '세대', 1), ('소통', '균등', 1), ('소통', '지역', 1), ('소통', '분배', 1), ('소통', '원활', 1), ('소통', '세대', 1), ('균등', '지역', 1), ('균등', '분배', 1), ('균등', '원활', 1), ('균등', '세대', 1), ('지역', '분배', 1), ('지역', '원활', 1), ('지역', '세대', 1), ('분배', '원활', 1), ('분배', '세대', 1), ('원활', '세대', 1), ('경제', '저조', 1), ('경제', '구', 1), ('저조', '구', 1), ('저조', '발전', 1), ('구', '발전', 1), ('낙후', '양평', 1), ('경제', '양평', 1), ('양평', '개선', 1), ('위기', '다문화가정', 1), ('위기', '청소년', 1), ('위기', '다문화', 1), ('위기', '지원', 1), ('다문화가정', '청소년', 1), ('다문화가정', '다문화', 1), ('다문화가정', '지원', 1), ('청소년', '다문화', 1), ('다문화', '지원', 1), ('면', '예술', 1), ('면', '바람', 1), ('면', '문화', 1), ('면', '발전', 1), ('면', '상업', 1), ('예술', '바람', 1), ('예술', '문화', 1), ('예술', '발전', 1), ('예술', '상업', 1), ('바람', '문화', 1), ('바람', '발전', 1), ('바람', '상업', 1), ('문화', '발전', 1), ('문화', '상업', 1), ('발전', '상업', 1), ('학교', '발전', 1), ('교육', '발전', 1), ('카페', '교육문제', 1), ('카페', '유해', 1), ('카페', '교육', 1), ('카페', '영등포구', 1), ('카페', '아이', 1), ('교육문제', '유해', 1), ('교육문제', '교육', 1), ('교육문제', '영등포구', 1), ('교육문제', '아이', 1), ('유해', '교육', 1), ('유해', '영등포구', 1), ('유해', '아이', 1), ('영등포구', '아이', 1), ('학교', '유치', 1), ('유치', '교육', 1), ('복지', '측면', 1), ('경제', '개발', 1), ('경제', '문래', 1), ('경제', '도시', 1), ('개발', '문래', 1), ('개발', '도시', 1), ('문래', '도시', 1), ('관련', '분야', 1), ('분야', '다문화', 1), ('복지', '노숙자', 1), ('노숙자', '문제', 1), ('교육', '대학', 1), ('영등포구', '대학', 1), ('대학', '명문고', 1), ('상권', '경제', 1), ('신길동', '중학교', 1), ('신길동', '교육', 1), ('신길동', '설립', 1), ('중학교', '교육', 1), ('중학교', '설립', 1), ('교육', '설립', 1), ('학교', '환경', 1), ('학교', '개선', 1), ('교육', '개선', 1), ('쓰레기통', '음식물', 1), ('쓰레기통', '쓰레기 봉투', 1), ('쓰레기통', '확대', 1), ('쓰레기통', '대신', 1), ('쓰레기통', '환경', 1), ('쓰레기통', '요망', 1), ('음식물', '쓰레기 봉투', 1), ('음식물', '확대', 1), ('음식물', '대신', 1), ('음식물', '환경', 1), ('음식물', '요망', 1), ('쓰레기 봉투', '확대', 1), ('쓰레기 봉투', '대신', 1), ('쓰레기 봉투', '환경', 1), ('쓰레기 봉투', '요망', 1), ('확대', '대신', 1), ('확대', '환경', 1), ('확대', '요망', 1), ('대신', '환경', 1), ('대신', '요망', 1), ('환경', '요망', 1), ('청소년', '교육문제', 1), ('교육', '교육문제', 1), ('교육', '아동', 1), ('교육문제', '아동', 1), ('문제점', '곳', 1), ('문제점', '부족', 1), ('문제점', '교육', 1), ('문제점', '다문화', 1), ('문제점', '아이', 1), ('곳', '부족', 1), ('곳', '교육', 1), ('곳', '다문화', 1), ('곳', '아이', 1), ('부족', '다문화', 1), ('부족', '아이', 1), ('교육', '다문화', 1), ('다문화', '아이', 1), ('교육', '자치구', 1), ('교육', '이주', 1), ('환경', '자치구', 1), ('환경', '이주', 1), ('자치구', '이주', 1), ('커뮤니케이션', '복지', 1), ('커뮤니케이션', '관', 1), ('커뮤니케이션', '생각', 1), ('커뮤니케이션', '사각지대', 1), ('커뮤니케이션', '주도', 1), ('커뮤니케이션', '문제', 1), ('복지', '관', 1), ('복지', '생각', 1), ('복지', '사각지대', 1), ('복지', '주도', 1), ('관', '생각', 1), ('관', '사각지대', 1), ('관', '주도', 1), ('관', '문제', 1), ('생각', '사각지대', 1), ('생각', '주도', 1), ('생각', '문제', 1), ('사각지대', '주도', 1), ('사각지대', '문제', 1), ('주도', '문제', 1), ('문래동', '문제', 1), ('복지', '계획', 1), ('복지', '단', 1), ('복지', '마을', 1), ('계획', '단', 1), ('계획', '마을', 1), ('단', '마을', 1), ('공적', '부족', 1), ('공적', '교육', 1), ('공적', '지원', 1), ('공적', '측면', 1), ('부족', '지원', 1), ('부족', '측면', 1), ('교육', '측면', 1), ('지원', '측면', 1), ('동포', '중국', 1), ('동포', '안전', 1), ('동포', '치안', 1), ('중국', '안전', 1), ('중국', '치안', 1), ('안전', '치안', 1), ('교육', '도시재생', 1), ('역력', '강화', 1), ('역력', '용', 1), ('역력', '도시재생', 1), ('역력', '안전', 1), ('강화', '용', 1), ('강화', '도시재생', 1), ('강화', '안전', 1), ('용', '도시재생', 1), ('용', '안전', 1), ('도시재생', '안전', 1), ('층간소음', '환경', 1), ('환경', '주거', 1)]\n"
     ]
    }
   ],
   "source": [
    "# 단어관계 행렬  counter 형태 --> 리스트 내 튜플 형태로 수정 --> 정렬하기\n",
    "\n",
    "word_coocs=[]\n",
    "for words, count in word_cooc_mat.items():\n",
    "    word_coocs.append((words[0],words[1],count))\n",
    "# print(word_coocs)    \n",
    "        \n",
    "sorted_word_coocs = sorted(word_coocs, key=lambda x: x[2], reverse=True)   # 정렬하기\n",
    "print(sorted_word_coocs)"
   ]
  },
  {
   "cell_type": "markdown",
   "metadata": {},
   "source": [
    " - 결과정리: SNA 그래프 그리기"
   ]
  },
  {
   "cell_type": "code",
   "execution_count": 41,
   "metadata": {
    "collapsed": true
   },
   "outputs": [],
   "source": [
    "#그래프 그리기\n",
    "import networkx as nx\n",
    "import matplotlib.pyplot as plt"
   ]
  },
  {
   "cell_type": "code",
   "execution_count": 42,
   "metadata": {
    "collapsed": true
   },
   "outputs": [],
   "source": [
    "# 1. 연결 상위 n개로 그림 그리기\n",
    "n = 100\n",
    "G= nx.Graph()\n",
    "\n",
    "for word1, word2, count in sorted_word_coocs[:n]:    #상위 n개로만 그림 그리기\n",
    "    G.add_edge(word1, word2, weight=count)\n",
    "    \n",
    "T = nx.minimum_spanning_tree(G)\n",
    "\n",
    "  "
   ]
  },
  {
   "cell_type": "code",
   "execution_count": 49,
   "metadata": {
    "collapsed": true
   },
   "outputs": [],
   "source": [
    "# 2. 중요 단어가 포함된 연결로만 그림 그리기\n",
    "IMPORTANT_WORDS = ['환경','교육','노인']\n",
    "n = 100\n",
    "\n",
    "G= nx.Graph()\n",
    "\n",
    "for word1, word2, count in sorted_word_coocs[:200]:    \n",
    "    if word1 in IMPORTANT_WORDS or word2 in IMPORTANT_WORDS:\n",
    "        G.add_edge(word1, word2, weight=count)\n",
    "    \n",
    "T = nx.minimum_spanning_tree(G)\n"
   ]
  },
  {
   "cell_type": "code",
   "execution_count": 50,
   "metadata": {},
   "outputs": [
    {
     "name": "stderr",
     "output_type": "stream",
     "text": [
      "C:\\Users\\namso_000\\Anaconda3\\lib\\site-packages\\networkx\\drawing\\nx_pylab.py:126: MatplotlibDeprecationWarning: pyplot.hold is deprecated.\n",
      "    Future behavior will be consistent with the long-time default:\n",
      "    plot commands add elements without first clearing the\n",
      "    Axes and/or Figure.\n",
      "  b = plt.ishold()\n",
      "C:\\Users\\namso_000\\Anaconda3\\lib\\site-packages\\networkx\\drawing\\nx_pylab.py:138: MatplotlibDeprecationWarning: pyplot.hold is deprecated.\n",
      "    Future behavior will be consistent with the long-time default:\n",
      "    plot commands add elements without first clearing the\n",
      "    Axes and/or Figure.\n",
      "  plt.hold(b)\n",
      "C:\\Users\\namso_000\\Anaconda3\\lib\\site-packages\\matplotlib\\__init__.py:917: UserWarning: axes.hold is deprecated. Please remove it from your matplotlibrc and/or style files.\n",
      "  warnings.warn(self.msg_depr_set % key)\n",
      "C:\\Users\\namso_000\\Anaconda3\\lib\\site-packages\\matplotlib\\rcsetup.py:152: UserWarning: axes.hold is deprecated, will be removed in 3.0\n",
      "  warnings.warn(\"axes.hold is deprecated, will be removed in 3.0\")\n"
     ]
    },
    {
     "data": {
      "image/png": "[encoded data removed]",
      "text/plain": [
       "<matplotlib.figure.Figure at 0xb27ae89198>"
      ]
     },
     "metadata": {},
     "output_type": "display_data"
    }
   ],
   "source": [
    "# 그래프 출력하기\n",
    "\n",
    "import sys\n",
    "\n",
    "nodes = nx.nodes(T)\n",
    "degrees = nx.degree(T)\n",
    "\n",
    "node_size = []\n",
    "\n",
    "for node in nodes:\n",
    "    ns = degrees[node]*100\n",
    "    \n",
    "    node_size.append(ns)\n",
    "    \n",
    "if sys.platform in [\"win32\", \"win64\"]:\n",
    "    font_name = \"malgun gothic\"\n",
    "elif sys.platform == \"darwin\":\n",
    "    fornt_name = \"AppleGothic\"\n",
    "    \n",
    "    \n",
    "# plt.figure(figsize=(30,20))    \n",
    "nx.draw(T,\n",
    "       pos=nx.fruchterman_reingold_layout(G, k=0.5),\n",
    "       node_size=node_size,\n",
    "       node_color=\"#FFE27F\",\n",
    "       font_family=font_name,\n",
    "       label_pos=1, #0=head, 0.5=center, 1=tail\n",
    "        with_labels=True,\n",
    "        font_size=10 )\n",
    "# plt.savefig(\"./data_구청장/명사만_관계상위100.png\")\n",
    "plt.axis(\"off\")\n",
    "\n",
    "plt.show()"
   ]
  },
  {
   "cell_type": "code",
   "execution_count": null,
   "metadata": {
    "collapsed": true
   },
   "outputs": [],
   "source": []
  }
 ],
 "metadata": {
  "kernelspec": {
   "display_name": "Python 3",
   "language": "python",
   "name": "python3"
  },
  "language_info": {
   "codemirror_mode": {
    "name": "ipython",
    "version": 3
   },
   "file_extension": ".py",
   "mimetype": "text/x-python",
   "name": "python",
   "nbconvert_exporter": "python",
   "pygments_lexer": "ipython3",
   "version": "3.6.1"
  }
 },
 "nbformat": 4,
 "nbformat_minor": 2
}
