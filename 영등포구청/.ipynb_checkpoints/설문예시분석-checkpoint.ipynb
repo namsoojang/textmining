{
 "cells": [
  {
   "cell_type": "markdown",
   "metadata": {},
   "source": [
    "\n",
    "# 1. 자료준비"
   ]
  },
  {
   "cell_type": "markdown",
   "metadata": {},
   "source": [
    "## 파일 읽어온다"
   ]
  },
  {
   "cell_type": "code",
   "execution_count": 1,
   "metadata": {
    "collapsed": true
   },
   "outputs": [],
   "source": [
    "import pandas as pd"
   ]
  },
  {
   "cell_type": "code",
   "execution_count": 3,
   "metadata": {
    "collapsed": true
   },
   "outputs": [],
   "source": [
    "# 파일을 읽어온다\n",
    "input_file = './data/ex_survey.csv'\n",
    "survey = pd.read_csv(input_file)"
   ]
  },
  {
   "cell_type": "code",
   "execution_count": 4,
   "metadata": {},
   "outputs": [
    {
     "data": {
      "text/html": [
       "<div>\n",
       "<style>\n",
       "    .dataframe thead tr:only-child th {\n",
       "        text-align: right;\n",
       "    }\n",
       "\n",
       "    .dataframe thead th {\n",
       "        text-align: left;\n",
       "    }\n",
       "\n",
       "    .dataframe tbody tr th {\n",
       "        vertical-align: top;\n",
       "    }\n",
       "</style>\n",
       "<table border=\"1\" class=\"dataframe\">\n",
       "  <thead>\n",
       "    <tr style=\"text-align: right;\">\n",
       "      <th></th>\n",
       "      <th>이름</th>\n",
       "      <th>직업</th>\n",
       "      <th>이슈분류</th>\n",
       "      <th>이슈</th>\n",
       "      <th>관심</th>\n",
       "      <th>협치</th>\n",
       "    </tr>\n",
       "  </thead>\n",
       "  <tbody>\n",
       "    <tr>\n",
       "      <th>0</th>\n",
       "      <td>진교선</td>\n",
       "      <td>직장인</td>\n",
       "      <td>다문화</td>\n",
       "      <td>다문화인식개선</td>\n",
       "      <td>다문화</td>\n",
       "      <td>NaN</td>\n",
       "    </tr>\n",
       "    <tr>\n",
       "      <th>1</th>\n",
       "      <td>박순영</td>\n",
       "      <td>교육강사</td>\n",
       "      <td>교육</td>\n",
       "      <td>지역별 환경과 청소년 발달에 맞는 교육프로그램지원</td>\n",
       "      <td>교육, 다문화</td>\n",
       "      <td>NaN</td>\n",
       "    </tr>\n",
       "    <tr>\n",
       "      <th>2</th>\n",
       "      <td>유은옥</td>\n",
       "      <td>예술창작소대표 마을활동</td>\n",
       "      <td>교육</td>\n",
       "      <td>교육/문화</td>\n",
       "      <td>문화 ·관광</td>\n",
       "      <td>NaN</td>\n",
       "    </tr>\n",
       "    <tr>\n",
       "      <th>3</th>\n",
       "      <td>서민순</td>\n",
       "      <td>시민단체대표</td>\n",
       "      <td>커뮤니티</td>\n",
       "      <td>도시재생, 커뮤니티공간 마련</td>\n",
       "      <td>환경, 도시재생</td>\n",
       "      <td>NaN</td>\n",
       "    </tr>\n",
       "    <tr>\n",
       "      <th>4</th>\n",
       "      <td>구형선</td>\n",
       "      <td>전업주부</td>\n",
       "      <td>환경</td>\n",
       "      <td>쓰레기 문제</td>\n",
       "      <td>환경</td>\n",
       "      <td>NaN</td>\n",
       "    </tr>\n",
       "  </tbody>\n",
       "</table>\n",
       "</div>"
      ],
      "text/plain": [
       "    이름            직업  이슈분류                           이슈        관심   협치\n",
       "0  진교선           직장인   다문화                      다문화인식개선       다문화  NaN\n",
       "1  박순영          교육강사    교육  지역별 환경과 청소년 발달에 맞는 교육프로그램지원   교육, 다문화  NaN\n",
       "2  유은옥  예술창작소대표 마을활동    교육                        교육/문화    문화 ·관광  NaN\n",
       "3  서민순        시민단체대표  커뮤니티              도시재생, 커뮤니티공간 마련  환경, 도시재생  NaN\n",
       "4  구형선          전업주부    환경                       쓰레기 문제        환경  NaN"
      ]
     },
     "execution_count": 4,
     "metadata": {},
     "output_type": "execute_result"
    }
   ],
   "source": [
    "survey.head()"
   ]
  },
  {
   "cell_type": "markdown",
   "metadata": {},
   "source": [
    "## 자료 탐색(참고)"
   ]
  },
  {
   "cell_type": "code",
   "execution_count": 5,
   "metadata": {
    "collapsed": true
   },
   "outputs": [],
   "source": [
    "prefers = survey['관심']"
   ]
  },
  {
   "cell_type": "code",
   "execution_count": 9,
   "metadata": {
    "collapsed": true
   },
   "outputs": [],
   "source": [
    "prefer_list = []\n",
    "for prefer in prefers:\n",
    "    for single in str(prefer).split(','):\n",
    "        prefer_list.append(single)\n",
    "    \n",
    "#     prefer_list.append(prefer.split(','))"
   ]
  },
  {
   "cell_type": "code",
   "execution_count": 10,
   "metadata": {
    "collapsed": true
   },
   "outputs": [
    {
     "name": "stdout",
     "output_type": "stream",
     "text": [
      "['다문화', '교육', ' 다문화', '문화 ·관광', '환경', ' 도시재생', '환경', '환경', ' 도시재생', '환경', '교육', '도시재생', '보건 ·복지', '다 관심', '환경', '전부', '보건 ·복지', '보건 ·복지', '보건 ·복지', ' 환경', '보건 ·복지', '교육', '교육', ' 도시재생', '보건 ·복지', '교육', '도시재생', ' 주차', '다문화', '교육', ' 다문화', '보건 ·복지', '다문화', '보건 ·복지', '다문화', '도시재생', '보건 ·복지', '환경', '교육', ' 보건 ·복지', ' 환경', ' 도시재생', ' 다문화', ' 문화 ·관광', ' 다 관심', '교육', '교육', ' 문화 ·관광', '교육', ' 도시재생', ' 다문화', '교육', ' 보건 ·복지', ' 환경', ' 도시재생', '교육', '도시재생', ' 문화 ·관광', '교육', ' 보건 ·복지', ' 환경', ' 도시재생', ' 다문화', ' 문화 ·관광', '교육', ' 문화 ·관광', '도시재생', '보건 ·복지', ' 영등포본동 추천', '보건 ·복지', '교육', ' 보건 ·복지', '교육', ' 다문화', '교육', ' 보건 ·복지', ' 도시재생', ' 다문화', ' 통일', '도시재생', '교육', ' 자발적 신청', '환경', '보건 ·복지', ' 전화가 안됨 문자요청 ', '교육', ' 주민참여단', '환경', '교육', ' 여성친화도시 구민참여단 참석자', '환경', '당산동 추천( 새마을 부녀회 회장)', '환경', ' 당산2동 추천', '보건 ·복지', '교육', ' 보건 ·복지', '도림동 추천', '교육', '지역사회보장협의체', 'nan', '보건 ·복지', ' 여의도', '토론은 못하고 듣기만 하러 참석하겠다', '교육', '교육', '도시재생', ' (양평 1동 추천)', 'nan', '주민참여예산위(양평1동 추천)', '보건 ·복지', '보건 ·복지', '청소년', '환경', '보건 ·복지', ' 환경', '교육', '보건 ·복지', '다문화', '도시재생', ' 문화 ·관광', '도시재생', '보건 ·복지', '보건 ·복지', '환경', 'nan', '환경', '참석 당일 결정', '다문화', 'nan', 'nan', '도시재생', '도시재생', '도시재생', '도시재생', '도시재생', '교육', ' 보건 ·복지', ' 환경', '교육', '보건 ·복지', '교육', '교육', '교육', 'nan', '보건 ·복지', '생활안전', '환경', '환경', 'nan', '도시재생', 'nan', '교육', ' 환경', ' 도시재생', ' 문화 ·관광', '교육', '다문화', 'nan', '환경', ' 도시재생', 'nan', '교육', '교육', '지역특화', '교육', ' 보건 ·복지', ' 환경', ' 문화 ·관광', 'nan', 'nan', '도시재생', '도시재생', '도시재생', '사회복지', '도시재생', '다문화']\n"
     ]
    }
   ],
   "source": [
    "print(prefer_list)"
   ]
  },
  {
   "cell_type": "code",
   "execution_count": 11,
   "metadata": {},
   "outputs": [
    {
     "name": "stdout",
     "output_type": "stream",
     "text": [
      "{'환경', '당산동 추천( 새마을 부녀회 회장)', '주민참여예산위(양평1동 추천)', ' 다문화', ' 주차', ' 자발적 신청', '지역특화', ' 통일', '토론은 못하고 듣기만 하러 참석하겠다', ' 여의도', '사회복지', '도시재생', ' 당산2동 추천', ' 보건 ·복지', ' 영등포본동 추천', 'nan', '청소년', '다 관심', '지역사회보장협의체', ' 전화가 안됨 문자요청 ', ' (양평 1동 추천)', '교육', '도림동 추천', ' 도시재생', ' 여성친화도시 구민참여단 참석자', '문화 ·관광', '보건 ·복지', '생활안전', '전부', ' 주민참여단', '참석 당일 결정', '다문화', ' 다 관심', ' 환경', ' 문화 ·관광'}\n"
     ]
    }
   ],
   "source": [
    "set_prefer = set(prefer_list)\n",
    "print(set_prefer)"
   ]
  },
  {
   "cell_type": "markdown",
   "metadata": {},
   "source": [
    "## 원하는 컬럼만 선택한다"
   ]
  },
  {
   "cell_type": "code",
   "execution_count": 23,
   "metadata": {},
   "outputs": [
    {
     "data": {
      "text/plain": [
       "Index(['이름', '직업', '이슈분류', '이슈', '관심', '협치'], dtype='object')"
      ]
     },
     "execution_count": 23,
     "metadata": {},
     "output_type": "execute_result"
    }
   ],
   "source": [
    "survey.columns"
   ]
  },
  {
   "cell_type": "code",
   "execution_count": 24,
   "metadata": {
    "collapsed": true
   },
   "outputs": [],
   "source": [
    "issues = survey[['이슈분류', '이슈']]"
   ]
  },
  {
   "cell_type": "code",
   "execution_count": 25,
   "metadata": {
    "collapsed": true
   },
   "outputs": [
    {
     "name": "stdout",
     "output_type": "stream",
     "text": [
      "       이슈분류                                                 이슈\n",
      "0       다문화                                            다문화인식개선\n",
      "1        교육                        지역별 환경과 청소년 발달에 맞는 교육프로그램지원\n",
      "2        교육                                              교육/문화\n",
      "3      커뮤니티                                    도시재생, 커뮤니티공간 마련\n",
      "4        환경                                             쓰레기 문제\n",
      "5        환경                                      미세먼지와 낙후지역 발전\n",
      "6        환경                                             쓰레기 문제\n",
      "7        환경                                                 환경\n",
      "8        안전                              영일시장 근처 보행로 확보( 보행안전)\n",
      "9        환경                                               버스소음\n",
      "10       교통                              당산역부근 호텔과다건설로 인한 교통난 \n",
      "11       교통                                         영등포역 KTX정차\n",
      "12       안전                                    영등포역 도로변 인도 확보 \n",
      "13       교통                                      문래동 중공업거리 개선 \n",
      "14       노인                             노인분들을 위한 상담서비스 또는 시설개선\n",
      "15     커뮤니티                                                 협력\n",
      "16       전부                                          분야별 고른 발전\n",
      "17     커뮤니티                                            주민간에 소통\n",
      "18       교육                                                 교육\n",
      "19       전부                                                없다~\n",
      "20       환경                                      재개발로인한 엉망 먼지등\n",
      "21       주차                        주차할공간이 없지만 주차를 해결했으면 좋겠습니다 \n",
      "22       환경                                  놀이터주변 흡연자,  쓰레기문제\n",
      "23      다문화                           다문화가족을 위한 취직일관련 부모함께살기방안\n",
      "24       행정                                      외국인국적취득질문내용개선\n",
      "25      다문화                                  대림2동 다문화지역생활환경개선 \n",
      "26       경제                                             상업지구발굴\n",
      "27      NaN                                                NaN\n",
      "28       경제                                            중공업지역개선\n",
      "29       환경                                      영등포역 주변 환경 개선\n",
      "..      ...                                                ...\n",
      "95       환경                           쓰레기 봉투 대신 음식물 쓰레기통 확대 요망\n",
      "96       교육                                     아동 청소년 교육문제 시급\n",
      "97       교육                                                 교육\n",
      "98       교육                    아이들이 놀 곳 부족, 다문화로 인한 문제점 (지저분함)\n",
      "99       교육                            교육환경걔선 (타 자치구로 이주가 많음 )\n",
      "100  커뮤니케이션  민관협치가 잘 이루어지지 않는다는 점이 가장 문제라고 생각됩니다. 복지에도 사각지대...\n",
      "101      교통                                           문래동 교통문제\n",
      "102     NaN                                                NaN\n",
      "103     NaN                                                NaN\n",
      "104      복지                                              마을계획단\n",
      "105      교통                                               교통문제\n",
      "106     NaN                                                NaN\n",
      "107      경제                                               도시재생\n",
      "108      교육                                    교육적 측면 공적지원 부족 \n",
      "109      안전                                           중국 동포 치안\n",
      "110      교육                                            교육 도시재생\n",
      "111      안전                                   어둡다. 도시재생 용역력 강화\n",
      "112     NaN                                                NaN\n",
      "113      환경                                               층간소음\n",
      "114     NaN                                                NaN\n",
      "115     NaN                                                NaN\n",
      "116      환경                                               주거환경\n",
      "117     NaN                                                NaN\n",
      "118     NaN                                                NaN\n",
      "119     NaN                                                NaN\n",
      "120     NaN                                                NaN\n",
      "121     NaN                                                NaN\n",
      "122     NaN                                                NaN\n",
      "123     NaN                                                NaN\n",
      "124     NaN                                                NaN\n",
      "\n",
      "[125 rows x 2 columns]\n"
     ]
    }
   ],
   "source": [
    "print(issues)"
   ]
  },
  {
   "cell_type": "code",
   "execution_count": 28,
   "metadata": {
    "collapsed": true
   },
   "outputs": [],
   "source": [
    "# 비어있는 데이터는 제외한다\n",
    "datas = issues.dropna()"
   ]
  },
  {
   "cell_type": "code",
   "execution_count": 32,
   "metadata": {},
   "outputs": [
    {
     "data": {
      "text/html": [
       "<div>\n",
       "<style>\n",
       "    .dataframe thead tr:only-child th {\n",
       "        text-align: right;\n",
       "    }\n",
       "\n",
       "    .dataframe thead th {\n",
       "        text-align: left;\n",
       "    }\n",
       "\n",
       "    .dataframe tbody tr th {\n",
       "        vertical-align: top;\n",
       "    }\n",
       "</style>\n",
       "<table border=\"1\" class=\"dataframe\">\n",
       "  <thead>\n",
       "    <tr style=\"text-align: right;\">\n",
       "      <th></th>\n",
       "      <th>이슈분류</th>\n",
       "      <th>이슈</th>\n",
       "    </tr>\n",
       "  </thead>\n",
       "  <tbody>\n",
       "    <tr>\n",
       "      <th>0</th>\n",
       "      <td>다문화</td>\n",
       "      <td>다문화인식개선</td>\n",
       "    </tr>\n",
       "    <tr>\n",
       "      <th>1</th>\n",
       "      <td>교육</td>\n",
       "      <td>지역별 환경과 청소년 발달에 맞는 교육프로그램지원</td>\n",
       "    </tr>\n",
       "    <tr>\n",
       "      <th>2</th>\n",
       "      <td>교육</td>\n",
       "      <td>교육/문화</td>\n",
       "    </tr>\n",
       "    <tr>\n",
       "      <th>3</th>\n",
       "      <td>커뮤니티</td>\n",
       "      <td>도시재생, 커뮤니티공간 마련</td>\n",
       "    </tr>\n",
       "    <tr>\n",
       "      <th>4</th>\n",
       "      <td>환경</td>\n",
       "      <td>쓰레기 문제</td>\n",
       "    </tr>\n",
       "  </tbody>\n",
       "</table>\n",
       "</div>"
      ],
      "text/plain": [
       "   이슈분류                           이슈\n",
       "0   다문화                      다문화인식개선\n",
       "1    교육  지역별 환경과 청소년 발달에 맞는 교육프로그램지원\n",
       "2    교육                        교육/문화\n",
       "3  커뮤니티              도시재생, 커뮤니티공간 마련\n",
       "4    환경                       쓰레기 문제"
      ]
     },
     "execution_count": 32,
     "metadata": {},
     "output_type": "execute_result"
    }
   ],
   "source": [
    "datas.head()"
   ]
  },
  {
   "cell_type": "markdown",
   "metadata": {},
   "source": [
    "# 2. 워드클라우드"
   ]
  },
  {
   "cell_type": "markdown",
   "metadata": {},
   "source": [
    " - 리스트 형태로 데이터 정리 필요!"
   ]
  },
  {
   "cell_type": "code",
   "execution_count": 33,
   "metadata": {
    "collapsed": true
   },
   "outputs": [],
   "source": [
    "# 워드클라우드 준비\n",
    "%matplotlib inline\n",
    "\n",
    "from collections import Counter\n",
    "import matplotlib.pyplot as plt\n",
    "from wordcloud import WordCloud"
   ]
  },
  {
   "cell_type": "code",
   "execution_count": 34,
   "metadata": {
    "collapsed": true
   },
   "outputs": [],
   "source": [
    "# most common 단어 정리'\n",
    "\n",
    "def words_most_common(words):\n",
    "    words_count=Counter()\n",
    "    words_count.update(words)   # , 로 분류된 단어들은 한번에 들어감\n",
    "   \n",
    "    return words_count.most_common()"
   ]
  },
  {
   "cell_type": "code",
   "execution_count": 36,
   "metadata": {
    "collapsed": true
   },
   "outputs": [],
   "source": [
    "\n",
    "words_count = words_most_common(datas[datas.columns[0]])    "
   ]
  },
  {
   "cell_type": "code",
   "execution_count": 37,
   "metadata": {
    "scrolled": true
   },
   "outputs": [
    {
     "name": "stdout",
     "output_type": "stream",
     "text": [
      "[('교육', 20), ('환경', 20), ('경제', 9), ('안전', 8), ('다문화', 7), ('커뮤니티', 7), ('교통', 5), ('복지', 5), ('전부', 4), ('예술', 2), ('노인', 1), ('주차', 1), ('행정', 1), ('커뮤니케이션', 1)]\n"
     ]
    }
   ],
   "source": [
    "print(words_count)"
   ]
  },
  {
   "cell_type": "code",
   "execution_count": 43,
   "metadata": {},
   "outputs": [
    {
     "name": "stdout",
     "output_type": "stream",
     "text": [
      "<class 'list'>\n"
     ]
    }
   ],
   "source": [
    "print(type(words_count))"
   ]
  },
  {
   "cell_type": "code",
   "execution_count": 38,
   "metadata": {
    "scrolled": true
   },
   "outputs": [
    {
     "name": "stdout",
     "output_type": "stream",
     "text": [
      "총 91개의 답변 중 중복을 제외하면 14 종류의 답변이 나왔습니다.\n",
      "\n",
      "가장 많이 나온 답변순으로 교육(20건, 21%), 환경(20건, 21%), 경제(9건, 9%) (으)로 나왔습니다. \n",
      "\n",
      "\n",
      "※ 상위 10개 답변\n",
      "   -1번째: 교육(20건, 21%)\n",
      "   -2번째: 환경(20건, 21%)\n",
      "   -3번째: 경제(9건, 9%)\n",
      "   -4번째: 안전(8건, 8%)\n",
      "   -5번째: 다문화(7건, 7%)\n",
      "   -6번째: 커뮤니티(7건, 7%)\n",
      "   -7번째: 교통(5건, 5%)\n",
      "   -8번째: 복지(5건, 5%)\n",
      "   -9번째: 전부(4건, 4%)\n",
      "   -10번째: 예술(2건, 2%)\n"
     ]
    }
   ],
   "source": [
    "# 답변 요약 정리\n",
    "\n",
    "reply_count = len(datas)   #답변 전체 숫자\n",
    "words_set = len(words_count)   #답변 종류 개수\n",
    "\n",
    "def word(i): return words_count[int(i)-1][0]\n",
    "def word_count(i): return words_count[(int(i)-1)][1]\n",
    "def word_ranking(i):\n",
    "    results = '{}({}건, {}%)'.format(word(i),word_count(i),int(words_count[int(i)-1][1]/reply_count*100))\n",
    "    return results\n",
    "\n",
    "# 답변 요약 정리 표시\n",
    "print(\"총 {}개의 답변 중 중복을 제외하면 {} 종류의 답변이 나왔습니다.\\n\".format(reply_count, words_set))\n",
    "print(\"가장 많이 나온 답변순으로 {}, {}, {} (으)로 나왔습니다. \\n\\n\". \\\n",
    "      format(word_ranking(1),word_ranking(2),word_ranking(3)))   \n",
    "\n",
    "print('※ 상위 10개 답변')\n",
    "for i in range(10):\n",
    "    print('   -{}번째: {}'.format(i+1, word_ranking(i+1)))"
   ]
  },
  {
   "cell_type": "markdown",
   "metadata": {},
   "source": [
    "## 워드클라우드 만들기\n"
   ]
  },
  {
   "cell_type": "code",
   "execution_count": 41,
   "metadata": {
    "collapsed": true
   },
   "outputs": [],
   "source": [
    "# mask 이미지대로 워드클라우드 표시하기\n",
    "\n",
    "%matplotlib inline\n",
    "import sys\n",
    "import numpy as np\n",
    "from PIL import Image\n",
    "from wordcloud import ImageColorGenerator\n",
    "\n",
    "def make_word_cloud_in_mask(words_counter, max_words, save_path, mask_img, relative):\n",
    "    '''\n",
    "    단어 카운터 자료 입력 --> 마스크 이미지에 맞춰 워드클라우드 보여줌\n",
    "    '''\n",
    "    words = words_counter\n",
    "    \n",
    "    #mask 이미지를 불러온다\n",
    "    mask = np.array(Image.open(mask_img))\n",
    "    \n",
    "    # 폰트 설정\n",
    "    if sys.platform in [\"win32\", \"win64\"]:\n",
    "        font_path = \"c:/Windows/Fonts/malgun.ttf\"\n",
    "    elif sys.platform == \"darwin\":\n",
    "        fornt_path = \"c:/Windows/Fonts/AppleGothic.ttf\"\n",
    "\n",
    "    tmp = dict(words)\n",
    "    wordcloud=WordCloud(font_path=font_path, relative_scaling=relative, mask=mask,  # relative_scaling  0에 가까울수록 순위, 1에 가까울수록 실제 카운트\n",
    "                        background_color='White', max_words=max_words, prefer_horizontal=1,    #prefer_horizontal = 1  모두 다 가로로\n",
    "                       min_font_size = 4, mode = 'RGBA').generate_from_frequencies(tmp)      #mode = 'RGBA', background_color = None --> 배경투명하게\n",
    "    \n",
    "    plt.figure(figsize=(16,8))      # 16,8 일경우  1600픽셀X800픽셀\n",
    "#     plt.figure()\n",
    "    plt.imshow(wordcloud, interpolation=\"bilinear\")\n",
    "    plt.axis('off')\n",
    "\n",
    "    #파일명 확인 필요\n",
    "    plt.savefig(save_path)"
   ]
  },
  {
   "cell_type": "code",
   "execution_count": 46,
   "metadata": {
    "collapsed": true
   },
   "outputs": [],
   "source": [
    "# 단어 리스트 추가(워드클라우드 이미지 만들기용)\n",
    "\n",
    "add_lists = [('이미지',1),('주거',1)]\n",
    "# words_count.append(('추가1',2))\n",
    "words_count+=add_lists\n"
   ]
  },
  {
   "cell_type": "code",
   "execution_count": 47,
   "metadata": {
    "scrolled": true
   },
   "outputs": [
    {
     "data": {
      "image/png": "[encoded data removed]",
      "text/plain": [
       "<matplotlib.figure.Figure at 0xb60e196f60>"
      ]
     },
     "metadata": {},
     "output_type": "display_data"
    }
   ],
   "source": [
    "MAX_WORDS = 100\n",
    "MASK_IMG_PATH = 'yellow.jpg'\n",
    "RELATIVE = 0.2     # relative_scaling  0에 가까울수록 순위, 1에 가까울수록 실제 카운트\n",
    "etc = '단어추가'   #기타 기억해야 할 부분\n",
    "SAVE_PATH = './result/설문예시_{}_{}_{}.png'.format(MAX_WORDS,RELATIVE,etc)\n",
    "\n",
    "make_word_cloud_in_mask(words_count, MAX_WORDS, SAVE_PATH, MASK_IMG_PATH, RELATIVE)"
   ]
  },
  {
   "cell_type": "code",
   "execution_count": null,
   "metadata": {
    "collapsed": true
   },
   "outputs": [],
   "source": []
  },
  {
   "cell_type": "markdown",
   "metadata": {},
   "source": [
    "# SNA 분석"
   ]
  },
  {
   "cell_type": "code",
   "execution_count": 48,
   "metadata": {
    "collapsed": true
   },
   "outputs": [],
   "source": [
    "from konlpy.tag import Komoran\n",
    "from konlpy.tag import Twitter"
   ]
  },
  {
   "cell_type": "code",
   "execution_count": 52,
   "metadata": {
    "scrolled": false
   },
   "outputs": [
    {
     "name": "stderr",
     "output_type": "stream",
     "text": [
      "C:\\Users\\namso_000\\Anaconda3\\lib\\site-packages\\ipykernel_launcher.py:2: SettingWithCopyWarning: \n",
      "A value is trying to be set on a copy of a slice from a DataFrame.\n",
      "Try using .loc[row_indexer,col_indexer] = value instead\n",
      "\n",
      "See the caveats in the documentation: http://pandas.pydata.org/pandas-docs/stable/indexing.html#indexing-view-versus-copy\n",
      "  \n"
     ]
    }
   ],
   "source": [
    "# 데이터 정리\n",
    "datas['정리'] = datas[datas.columns[0]]+' '+datas[datas.columns[1]]"
   ]
  },
  {
   "cell_type": "code",
   "execution_count": 53,
   "metadata": {
    "scrolled": true
   },
   "outputs": [
    {
     "data": {
      "text/html": [
       "<div>\n",
       "<style>\n",
       "    .dataframe thead tr:only-child th {\n",
       "        text-align: right;\n",
       "    }\n",
       "\n",
       "    .dataframe thead th {\n",
       "        text-align: left;\n",
       "    }\n",
       "\n",
       "    .dataframe tbody tr th {\n",
       "        vertical-align: top;\n",
       "    }\n",
       "</style>\n",
       "<table border=\"1\" class=\"dataframe\">\n",
       "  <thead>\n",
       "    <tr style=\"text-align: right;\">\n",
       "      <th></th>\n",
       "      <th>이슈분류</th>\n",
       "      <th>이슈</th>\n",
       "      <th>정리</th>\n",
       "    </tr>\n",
       "  </thead>\n",
       "  <tbody>\n",
       "    <tr>\n",
       "      <th>0</th>\n",
       "      <td>다문화</td>\n",
       "      <td>다문화인식개선</td>\n",
       "      <td>다문화 다문화인식개선</td>\n",
       "    </tr>\n",
       "    <tr>\n",
       "      <th>1</th>\n",
       "      <td>교육</td>\n",
       "      <td>지역별 환경과 청소년 발달에 맞는 교육프로그램지원</td>\n",
       "      <td>교육 지역별 환경과 청소년 발달에 맞는 교육프로그램지원</td>\n",
       "    </tr>\n",
       "    <tr>\n",
       "      <th>2</th>\n",
       "      <td>교육</td>\n",
       "      <td>교육/문화</td>\n",
       "      <td>교육 교육/문화</td>\n",
       "    </tr>\n",
       "    <tr>\n",
       "      <th>3</th>\n",
       "      <td>커뮤니티</td>\n",
       "      <td>도시재생, 커뮤니티공간 마련</td>\n",
       "      <td>커뮤니티 도시재생, 커뮤니티공간 마련</td>\n",
       "    </tr>\n",
       "    <tr>\n",
       "      <th>4</th>\n",
       "      <td>환경</td>\n",
       "      <td>쓰레기 문제</td>\n",
       "      <td>환경 쓰레기 문제</td>\n",
       "    </tr>\n",
       "  </tbody>\n",
       "</table>\n",
       "</div>"
      ],
      "text/plain": [
       "   이슈분류                           이슈                              정리\n",
       "0   다문화                      다문화인식개선                     다문화 다문화인식개선\n",
       "1    교육  지역별 환경과 청소년 발달에 맞는 교육프로그램지원  교육 지역별 환경과 청소년 발달에 맞는 교육프로그램지원\n",
       "2    교육                        교육/문화                        교육 교육/문화\n",
       "3  커뮤니티              도시재생, 커뮤니티공간 마련            커뮤니티 도시재생, 커뮤니티공간 마련\n",
       "4    환경                       쓰레기 문제                       환경 쓰레기 문제"
      ]
     },
     "execution_count": 53,
     "metadata": {},
     "output_type": "execute_result"
    }
   ],
   "source": [
    "datas.head()"
   ]
  },
  {
   "cell_type": "code",
   "execution_count": 54,
   "metadata": {
    "collapsed": true
   },
   "outputs": [],
   "source": [
    "datas_sna = datas['정리']"
   ]
  },
  {
   "cell_type": "code",
   "execution_count": 55,
   "metadata": {},
   "outputs": [
    {
     "name": "stdout",
     "output_type": "stream",
     "text": [
      "['다문화 다문화인식개선', '교육 지역별 환경과 청소년 발달에 맞는 교육프로그램지원', '교육 교육/문화', '커뮤니티 도시재생, 커뮤니티공간 마련', '환경 쓰레기 문제', '환경 미세먼지와 낙후지역 발전', '환경 쓰레기 문제', '환경 환경', '안전 영일시장 근처 보행로 확보( 보행안전)', '환경 버스소음']\n"
     ]
    }
   ],
   "source": [
    "contents = []\n",
    "for data in datas_sna:\n",
    "    contents.append(data)\n",
    "print(contents[:10])"
   ]
  },
  {
   "cell_type": "code",
   "execution_count": 56,
   "metadata": {
    "collapsed": true
   },
   "outputs": [],
   "source": [
    "# 형태소 분석하기\n",
    "\n",
    "def ma_contents(contents):\n",
    "    # lists 로 된 데이터 입력 --> 형태소 분석 결과 출력\n",
    "    \n",
    "    ma_results = []\n",
    "    ma = Twitter()\n",
    "    \n",
    "    for content in contents:\n",
    "        ma_by_content = ma.pos(content)\n",
    "        ma_results.append(ma_by_content)\n",
    "    \n",
    "    return ma_results"
   ]
  },
  {
   "cell_type": "code",
   "execution_count": 57,
   "metadata": {
    "collapsed": true
   },
   "outputs": [],
   "source": [
    "ma_results = ma_contents(contents)"
   ]
  },
  {
   "cell_type": "code",
   "execution_count": 60,
   "metadata": {
    "scrolled": true
   },
   "outputs": [
    {
     "name": "stdout",
     "output_type": "stream",
     "text": [
      "[[('다문화', 'Noun'), ('다문화', 'Noun'), ('인식', 'Noun'), ('개선', 'Noun')], [('교육', 'Noun'), ('지역별', 'Noun'), ('환경', 'Noun'), ('과', 'Josa'), ('청소년', 'Noun'), ('발달', 'Noun'), ('에', 'Josa'), ('맞는', 'Verb'), ('교육', 'Noun'), ('프로그램', 'Noun'), ('지원', 'Noun')], [('교육', 'Noun'), ('교육', 'Noun'), ('/', 'Punctuation'), ('문화', 'Noun')], [('커뮤니티', 'Noun'), ('도시재생', 'Noun'), (',', 'Punctuation'), ('커뮤니티', 'Noun'), ('공간', 'Noun'), ('마련', 'Noun')], [('환경', 'Noun'), ('쓰레기', 'Noun'), ('문제', 'Noun')]]\n"
     ]
    }
   ],
   "source": [
    "print(ma_results[:5])"
   ]
  },
  {
   "cell_type": "code",
   "execution_count": 65,
   "metadata": {
    "collapsed": true
   },
   "outputs": [],
   "source": [
    "# 분석 대상 정리하기(원하는 품사 선택, STOPWORDS 제외)\n",
    "\n",
    "# FILTER_IN_POSES=['NNG','NNP', 'XR']       # Komoran 기준\n",
    "#NNG 일반명사  NNP 고유명사 XR 어근 (~하다) VA 형용사(~다)\n",
    "# XR: 어근,  ~하다 ex.유쾌하다\n",
    "\n",
    "FILTER_IN_POSES=['Noun']\n",
    "\n",
    "STOPWORD=['으로','어요','!!','는데','있어','니다','에서','..','입니','하고','에요','데요','...','이에요','더라구요','인데',\n",
    "         '까지','ㅎㅎ','데요','습니다','이라','그리고','이렇게','에는','000','아요','!!!','면서','이나',\n",
    "         '네요','보다','이번','하는','예요','.','되어','하게','되는','에도','지만',\n",
    "          '너무','정말','같은','있는','NO', '/', '~']   #분석에서 제외할 단어 추가 필요\n",
    "\n",
    "\n",
    "def ma_results_select(ma_results, FILTER_IN_POSES, STOPWORD):\n",
    "\n",
    "    ma_results_selected=[]\n",
    "\n",
    "    for ma_result in ma_results:\n",
    "        ma_selected=[]\n",
    "        for morph_lex, morph_cat in ma_result:\n",
    "            if morph_lex not in STOPWORD: \n",
    "                ma_selected.append(morph_lex)\n",
    "\n",
    "        ma_results_selected.append(ma_selected)\n",
    "\n",
    "    return ma_results_selected"
   ]
  },
  {
   "cell_type": "code",
   "execution_count": 66,
   "metadata": {
    "collapsed": true
   },
   "outputs": [],
   "source": [
    "ma_results_selected = ma_results_select(ma_results, FILTER_IN_POSES, STOPWORD)"
   ]
  },
  {
   "cell_type": "code",
   "execution_count": 67,
   "metadata": {},
   "outputs": [
    {
     "name": "stdout",
     "output_type": "stream",
     "text": [
      "[['다문화', '다문화', '인식', '개선'], ['교육', '지역별', '환경', '과', '청소년', '발달', '에', '맞는', '교육', '프로그램', '지원'], ['교육', '교육', '문화'], ['커뮤니티', '도시재생', ',', '커뮤니티', '공간', '마련'], ['환경', '쓰레기', '문제'], ['환경', '미세먼지', '와', '낙후', '지역', '발전'], ['환경', '쓰레기', '문제'], ['환경', '환경'], ['안전', '영일', '시장', '근처', '보행', '로', '확보', '(', '보행', '안전', ')'], ['환경', '버스', '소음'], ['교통', '당산역', '부근', '호텔', '과', '다', '건설', '로', '인한', '교통난'], ['교통', '영등포역', 'KTX', '정차'], ['안전', '영등포역', '도로', '변', '인도', '확보'], ['교통', '문래동', '중공업', '거리', '개선'], ['노인', '노인', '분들', '을', '위한', '상담', '서비스', '또는', '시설', '개선'], ['커뮤니티', '협력'], ['전부', '분야', '별', '고른', '발전'], ['커뮤니티', '주민', '간', '에', '소통'], ['교육', '교육'], ['전부', '없다']]\n"
     ]
    }
   ],
   "source": [
    "print(ma_results_selected[:20])"
   ]
  },
  {
   "cell_type": "code",
   "execution_count": 68,
   "metadata": {
    "collapsed": true
   },
   "outputs": [],
   "source": [
    "# 워드 SNS 분석\n",
    "## 단어 관계 매트릭스 만들기\n",
    "\n",
    "from collections import Counter\n",
    "from itertools import combinations\n",
    "\n",
    "def word_cooc_matrics(contents):\n",
    "    \n",
    "    word_cooc_mat=Counter()\n",
    "\n",
    "    for line in contents:\n",
    "        for word1, word2 in combinations(line,2):\n",
    "            \n",
    "            if len(word1)==1 or len(word2) ==1 :   # 1음절 단어는 제외한다\n",
    "                continue\n",
    "            \n",
    "            if word1 == word2 :   #동일한 단어간의 벡터는 계산하지 않음\n",
    "                continue\n",
    "            elif word_cooc_mat[(word2,word1)]>=1:    # 동일한 조합이나, 순서가 반대인 경우 하나의 조합으로만 카운트함\n",
    "                word_cooc_mat[(word2,word1)]+=1\n",
    "            else:\n",
    "                word_cooc_mat[(word1,word2)]+=1\n",
    "    \n",
    "    return word_cooc_mat"
   ]
  },
  {
   "cell_type": "code",
   "execution_count": 69,
   "metadata": {
    "collapsed": true
   },
   "outputs": [],
   "source": [
    "word_cooc_mat = word_cooc_matrics(ma_results_selected)   #작업에 많은 시간 소요됨..."
   ]
  },
  {
   "cell_type": "code",
   "execution_count": 70,
   "metadata": {
    "collapsed": true
   },
   "outputs": [],
   "source": [
    "# 단어관계 행렬  counter 형태 --> 리스트 내 튜플 형태로 수정 --> 정렬하기\n",
    "\n",
    "def sorting_word_coocs(word_cooc_mat):\n",
    "    word_coocs=[]\n",
    "    for words, count in word_cooc_mat.items():\n",
    "        word_coocs.append((words[0],words[1],count))\n",
    "\n",
    "    sorted_word_coocs = sorted(word_coocs, key=lambda x: x[2], reverse=True)   # 정렬하기\n",
    "    \n",
    "    return sorted_word_coocs\n"
   ]
  },
  {
   "cell_type": "code",
   "execution_count": 71,
   "metadata": {
    "collapsed": true
   },
   "outputs": [],
   "source": [
    "sorted_word_coocs = sorting_word_coocs(word_cooc_mat)"
   ]
  },
  {
   "cell_type": "code",
   "execution_count": 72,
   "metadata": {},
   "outputs": [
    {
     "data": {
      "text/plain": [
       "[('환경', '쓰레기', 10),\n",
       " ('환경', '문제', 9),\n",
       " ('환경', '개선', 9),\n",
       " ('교육', '환경', 8),\n",
       " ('쓰레기', '문제', 7),\n",
       " ('다문화', '개선', 6),\n",
       " ('교육', '학교', 5),\n",
       " ('교육', '지원', 4),\n",
       " ('안전', '보행', 4),\n",
       " ('커뮤니티', '소통', 4),\n",
       " ('다문화', '관련', 4),\n",
       " ('교육', '아이', 4),\n",
       " ('교통', '문제', 4),\n",
       " ('교육', '청소년', 3),\n",
       " ('안전', '확보', 3),\n",
       " ('교통', '문래동', 3),\n",
       " ('커뮤니티', '주민', 3),\n",
       " ('주민', '소통', 3),\n",
       " ('환경', '주변', 3),\n",
       " ('경제', '개선', 3),\n",
       " ('환경', '영등포역', 3),\n",
       " ('영등포역', '개선', 3),\n",
       " ('교육', '영등포구', 3),\n",
       " ('안전', '환경', 3),\n",
       " ('안전', '개선', 3),\n",
       " ('교육', '부족', 3),\n",
       " ('다문화', '인식', 2),\n",
       " ('교육', '지역별', 2),\n",
       " ('교육', '발달', 2),\n",
       " ('교육', '맞는', 2)]"
      ]
     },
     "execution_count": 72,
     "metadata": {},
     "output_type": "execute_result"
    }
   ],
   "source": [
    "sorted_word_coocs[:30]"
   ]
  },
  {
   "cell_type": "code",
   "execution_count": 73,
   "metadata": {
    "collapsed": true
   },
   "outputs": [],
   "source": [
    "# 그래프 그리기 준비\n",
    "import networkx as nx\n",
    "import matplotlib.pyplot as plt\n",
    "import sys"
   ]
  },
  {
   "cell_type": "code",
   "execution_count": 77,
   "metadata": {
    "collapsed": true
   },
   "outputs": [],
   "source": [
    "# 그래프 그리기\n",
    "\n",
    "\n",
    "def sna_graph(word_coocs, NETWORK_MAX, SELECTED_WORDS, STOPWORDS, SAVE_PATH):\n",
    "        \n",
    "    G= nx.Graph()\n",
    "\n",
    "    for word1, word2, count in word_coocs[:NETWORK_MAX]:    #상위 n개로만 그림 그리기\n",
    "        \n",
    "        if word1 not in SELECTED_WORDS and word2 not in SELECTED_WORDS:\n",
    "            continue\n",
    "        elif word1 in STOPWORDS or word2 in STOPWORDS:\n",
    "            continue\n",
    "        \n",
    "        G.add_edge(word1, word2, weight=count)\n",
    "\n",
    "    T = nx.minimum_spanning_tree(G)\n",
    "\n",
    "    nodes = nx.nodes(T)\n",
    "    degrees = nx.degree(T)\n",
    "\n",
    "    node_size = []\n",
    "\n",
    "    for node in nodes:\n",
    "        ns = degrees[node]*100\n",
    "        node_size.append(ns)\n",
    "\n",
    "    # 폰트 정리\n",
    "    if sys.platform in [\"win32\", \"win64\"]:\n",
    "        font_name = \"malgun gothic\"\n",
    "    elif sys.platform == \"darwin\":\n",
    "        fornt_name = \"AppleGothic\"\n",
    "\n",
    "    plt.figure(figsize=(30,20))    \n",
    "    nx.draw_networkx(T,\n",
    "           pos=nx.fruchterman_reingold_layout(G, k=0.5),\n",
    "           node_size=node_size,\n",
    "           node_color=\"#FFE27F\",\n",
    "           font_family=font_name,\n",
    "           label_pos=1, #0=head, 0.5=center, 1=tail\n",
    "            with_labels=True,\n",
    "            font_size=30 )\n",
    "    plt.savefig(SAVE_PATH)\n",
    "    plt.axis(\"off\")\n",
    "\n",
    "    plt.show()"
   ]
  },
  {
   "cell_type": "code",
   "execution_count": 88,
   "metadata": {},
   "outputs": [
    {
     "name": "stdout",
     "output_type": "stream",
     "text": [
      "['주차', '방안', '도로로', '시장', '마련', '환경', '교통', '생활환경', '거리', '중학교', '인식', '위한', '도로', '확보', '지역별', '맞는', '노인', '또는', '영일', '해결했', '공해', '관련', '대림', '지원', '문제', '보행', '도시재생', '공간', '함께', '중공업', '명문', '서비스', '지역', '아이', '많이', '근처', '환경문제', '쓰레기', '청소년', '아동', '프로그램', '살기', '으면', '분리', '교육', '분들', '낙후', '등하교', '가게', '문래동', '경제', '주변', '시설', '주민', '개선', '문화', '상담', '안전', '주차할', '없지', '커뮤니티', '전부', '관련된', '발달', '영등포구', '다문화', '부족', '가족', '취직', '소통', '학교', '생각', '조성', '과일', '부모', '복지', '영등포역']\n"
     ]
    },
    {
     "data": {
      "image/png": "[encoded data removed]",
      "text/plain": [
       "<matplotlib.figure.Figure at 0xb63317eb00>"
      ]
     },
     "metadata": {},
     "output_type": "display_data"
    }
   ],
   "source": [
    "NETWORK_MAX = 100\n",
    "SAVE_PATH = './result/예시_SNA.png'\n",
    "\n",
    "words_all = []\n",
    "for word1, word2, count in sorted_word_coocs[:NETWORK_MAX]:\n",
    "    words_all.append(word1)\n",
    "    words_all.append(word2)\n",
    "words_al_set = list(set(words_all))\n",
    "print(words_al_set)\n",
    "# SELECTED_WORDS = ['네일','틴트']\n",
    "# SELECTED_WORDS =[words_al_set]\n",
    "SELECTED_WORDS =['환경','환경문제']\n",
    "STOPWORDS = []\n",
    "\n",
    "sna_graph(sorted_word_coocs, NETWORK_MAX, SELECTED_WORDS, STOPWORDS, SAVE_PATH)"
   ]
  }
 ],
 "metadata": {
  "kernelspec": {
   "display_name": "Python 3",
   "language": "python",
   "name": "python3"
  },
  "language_info": {
   "codemirror_mode": {
    "name": "ipython",
    "version": 3
   },
   "file_extension": ".py",
   "mimetype": "text/x-python",
   "name": "python",
   "nbconvert_exporter": "python",
   "pygments_lexer": "ipython3",
   "version": "3.6.1"
  }
 },
 "nbformat": 4,
 "nbformat_minor": 2
}
