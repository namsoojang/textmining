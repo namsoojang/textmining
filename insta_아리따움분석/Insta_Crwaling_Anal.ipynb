{
 "cells": [
  {
   "cell_type": "code",
   "execution_count": null,
   "metadata": {
    "collapsed": true
   },
   "outputs": [],
   "source": [
    "'''\n",
    "Insta Crwaling Analyze  / 2017.12.19 \n",
    "\n",
    "'''\n",
    "\n",
    "# from selenium import webdriver\n",
    "# import time\n",
    "# import random\n",
    "# from bs4 import BeautifulSoup\n",
    "# import re\n",
    "from datetime import datetime\n",
    "import pandas as pd\n",
    "import seaborn as sns\n",
    "import os\n",
    "from collections import Counter\n",
    "import numpy as np\n",
    "import matplotlib.pyplot as plt\n",
    "from matplotlib import font_manager, rc\n",
    "from wordcloud import WordCloud\n",
    "from itertools import combinations\n",
    "import networkx as nx\n",
    "import sys\n",
    "import gensim\n",
    "from gensim.models import Word2Vec\n",
    "\n",
    "%matplotlib inline"
   ]
  },
  {
   "cell_type": "code",
   "execution_count": null,
   "metadata": {
    "collapsed": true
   },
   "outputs": [],
   "source": [
    "# 크롤링 데이터 불러오기"
   ]
  },
  {
   "cell_type": "code",
   "execution_count": null,
   "metadata": {
    "collapsed": true
   },
   "outputs": [],
   "source": [
    "def load_crwal_datas(fname):\n",
    "    cpath = \"\"\n",
    "    for p in fname:\n",
    "        if ord(p) <= 255:\n",
    "            cpath += p\n",
    "    datas = pd.read_csv(cpath)\n",
    "    return datas"
   ]
  },
  {
   "cell_type": "code",
   "execution_count": 1,
   "metadata": {
    "collapsed": true
   },
   "outputs": [],
   "source": [
    "# 시계열 트렌드 살펴보기"
   ]
  },
  {
   "cell_type": "code",
   "execution_count": null,
   "metadata": {
    "collapsed": true
   },
   "outputs": [],
   "source": [
    "def insta_trends_analyser(datas):\n",
    "    # datas: insta 크롤 결과 pandas 자료형 형태\n",
    "    datas['day'] = [date[:10] for date in datas['datetime']]    # #월/일 값만 추가  2017-11-25형태\n",
    "    \n",
    "    trends = pd.DataFrame()\n",
    "    trends['article'] = datas.groupby(datas['day'])['article'].count()  #  일자별 인스타 포스팅수\n",
    "    trends['replies'] = datas.groupby(datas['day'])['replys_count'].sum() # 일자별 댓글 작성수\n",
    "    trends['likes'] = datas.groupby(datas['day'])['likes'].sum()     # 일자별 좋아요 수\n",
    "    trends['sum'] = trends.replies + trends.article + trends.likes\n",
    "    \n",
    "    return trends"
   ]
  },
  {
   "cell_type": "code",
   "execution_count": null,
   "metadata": {
    "collapsed": true
   },
   "outputs": [],
   "source": [
    "# 태그 빈도수 계산하기"
   ]
  },
  {
   "cell_type": "code",
   "execution_count": null,
   "metadata": {
    "collapsed": true
   },
   "outputs": [],
   "source": [
    "def tag_counter(tag_lists, STOP=[]):\n",
    "    # 인스타 태그 수집결과를 입력하면, 태그 빈도수 카운트가 높은 순으로 보여줌, STOP 불용어는 제외함\n",
    "    \n",
    "    # tag_lists = [\"'#라인1태그1'\",    \"'라인2태그1', '라인2태그2', '라인2태그3'\" ] 형식\n",
    "    # 태그 빈도수 카운트\n",
    "    tag_counts = Counter()\n",
    "    for tags in tag_lists:\n",
    "        try: tag_counts.update(tags.replace(\"'\",'').replace(' ','').strip().split(','),)\n",
    "        except: continue\n",
    "    tag_counts = tag_counts.most_common()  # 정열하기\n",
    "    \n",
    "    # STOP 제외하기\n",
    "    tag_counts_s = []\n",
    "    for word, count in tag_counts:\n",
    "        if word not in STOP:\n",
    "            tag_counts_s.append((word,count))\n",
    "    \n",
    "    return tag_counts_s"
   ]
  },
  {
   "cell_type": "code",
   "execution_count": null,
   "metadata": {
    "collapsed": true
   },
   "outputs": [],
   "source": [
    "def tag_counts_sellector(tag_counts, STOP):\n",
    "    # STOP 단어를 제외하여  리스트 형태로 출력함(카운터 --> 리스트 형태 변경됨)\n",
    "    tag_counts_s = []\n",
    "    for word, count in tag_counts:\n",
    "        if word not in STOP:\n",
    "            tag_counts_s.append((word,count))\n",
    "    return tag_counts_s"
   ]
  },
  {
   "cell_type": "code",
   "execution_count": null,
   "metadata": {
    "collapsed": true
   },
   "outputs": [],
   "source": []
  },
  {
   "cell_type": "code",
   "execution_count": null,
   "metadata": {
    "collapsed": true
   },
   "outputs": [],
   "source": [
    "# 상위 태그 바차트로 보여주기"
   ]
  },
  {
   "cell_type": "code",
   "execution_count": null,
   "metadata": {
    "collapsed": true
   },
   "outputs": [],
   "source": [
    "def tag_counts_chart(tag_counts, n):\n",
    "    # matplotlib 한글 사용하기\n",
    "    font_location = 'c:/Windows/fonts/malgun.ttf'\n",
    "    font_name = font_manager.FontProperties(fname=font_location).get_name()\n",
    "    rc('font',family=font_name)\n",
    "    \n",
    "    labels, values = [],[]\n",
    "    for tags in reversed(tag_counts[:n]):   # 가로 그래프일 경우에는 reversed 로 순서 변경해준다\n",
    "        label, value = tags\n",
    "        labels.append(label)\n",
    "        values.append(value)\n",
    "\n",
    "    indexes = np.arange(len(labels))\n",
    "    width = 0.9\n",
    "    fig = plt.figure(figsize = (8,6))\n",
    "    plt.barh(indexes, values, width)  # 수평 바 그래프\n",
    "#     plt.yticks(indexes + width * 0.5, labels, rotation='0')\n",
    "    plt.yticks(indexes, labels, rotation='0')\n",
    "\n",
    "    # 세로그래프일 경우\n",
    "    # plt.bar(indexes, values, width)\n",
    "    # plt.xticks(indexes + width * 0.5, labels, rotation='90') \n",
    "    plt.show()"
   ]
  },
  {
   "cell_type": "code",
   "execution_count": null,
   "metadata": {
    "collapsed": true
   },
   "outputs": [],
   "source": [
    "# STOPWORD 제외한 태그 빈도수"
   ]
  },
  {
   "cell_type": "code",
   "execution_count": null,
   "metadata": {
    "collapsed": true
   },
   "outputs": [],
   "source": [
    "# def tag_counts_sellector(tag_counts, STOP):\n",
    "#     # STOP 단어를 제외하여  리스트 형태로 출력함(카운터 --> 리스트 형태 변경됨)\n",
    "#     tag_counts_s = []\n",
    "#     for word, count in tag_counts:\n",
    "#         if word not in STOP:\n",
    "#             tag_counts_s.append((word,count))\n",
    "#     return tag_counts_s"
   ]
  },
  {
   "cell_type": "code",
   "execution_count": null,
   "metadata": {
    "collapsed": true
   },
   "outputs": [],
   "source": [
    "# 워드클라우드 그리기"
   ]
  },
  {
   "cell_type": "code",
   "execution_count": null,
   "metadata": {
    "collapsed": true
   },
   "outputs": [],
   "source": [
    "def tag_wordcloud(tag_counts, word_num):\n",
    "    tmp = dict(tag_counts[:word_num])\n",
    "    wordcloud=WordCloud(font_path=\"c:/Windows/Fonts/malgun.ttf\", relative_scaling=0.5, \n",
    "                        background_color=\"white\", max_words=100).generate_from_frequencies(tmp)    #font_step=5\n",
    "    plt.figure(figsize=(8,6))\n",
    "    plt.imshow(wordcloud)\n",
    "    plt.axis('off')"
   ]
  },
  {
   "cell_type": "code",
   "execution_count": null,
   "metadata": {
    "collapsed": true
   },
   "outputs": [],
   "source": [
    "# 게시글별 태그리스트 정리한다"
   ]
  },
  {
   "cell_type": "code",
   "execution_count": null,
   "metadata": {
    "collapsed": true
   },
   "outputs": [],
   "source": [
    "def tag_lists_selector(tag_lists, STOP=[]):\n",
    "    # 인스타 태그 검색결과 중 일부\n",
    "    \n",
    "    tag_lists_sel = []\n",
    "    for tags in tag_lists:\n",
    "        tag_sel = tags.replace(\"'\",'').replace(' ','').split(',')\n",
    "        tag_lists_sel.append([tag for tag in tag_sel if tag not in STOP])\n",
    "    return tag_lists_sel"
   ]
  },
  {
   "cell_type": "code",
   "execution_count": null,
   "metadata": {
    "collapsed": true
   },
   "outputs": [],
   "source": [
    "# 단어 관계 행렬 만들기"
   ]
  },
  {
   "cell_type": "code",
   "execution_count": null,
   "metadata": {
    "collapsed": true
   },
   "outputs": [],
   "source": [
    "def word_matrix(tag_lists, stop=None, must=None):\n",
    "    # 매트릭스 만들기\n",
    "    word_cooc_mat=Counter()\n",
    "    for line in tag_lists:\n",
    "        for word1, word2 in combinations(line,2):\n",
    "            if stop!=None and (word1 in stop or word2 in stop): continue\n",
    "            if must!=None and (word1 not in must and word2 not in must): continue\n",
    "            if word1 == word2: continue  #동일한 단어간의 벡터는 계산하지 않음\n",
    "            elif word_cooc_mat[(word2,word1)]>=1:word_cooc_mat[(word2,word1)]+=1\n",
    "            else: word_cooc_mat[(word1,word2)]+=1    \n",
    "    \n",
    "    word_coocs = []\n",
    "    for words, count in word_cooc_mat.items():\n",
    "        word_coocs.append((words[0],words[1],count))\n",
    "    \n",
    "    sorted_word_coocs = sorted(word_coocs, key=lambda x: x[2], reverse=True)   # 정렬하기\n",
    "    \n",
    "    return sorted_word_coocs"
   ]
  },
  {
   "cell_type": "code",
   "execution_count": null,
   "metadata": {
    "collapsed": true
   },
   "outputs": [],
   "source": [
    "# 태그간 SNA 그래프"
   ]
  },
  {
   "cell_type": "code",
   "execution_count": null,
   "metadata": {
    "collapsed": true
   },
   "outputs": [],
   "source": [
    "def word_sna_graph(word_matrix, n, fname=None):\n",
    "    G= nx.Graph()\n",
    "    for word1, word2, count in word_matrix[:n]:    #상위 n개로만 그림 그리기\n",
    "        G.add_edge(word1, word2, weight=count)\n",
    "    T = nx.minimum_spanning_tree(G)\n",
    "    nodes = nx.nodes(T)\n",
    "    degrees = nx.degree(T)\n",
    "    node_size = []\n",
    "\n",
    "    for node in nodes:\n",
    "        ns = degrees[node]*200\n",
    "        node_size.append(ns)\n",
    "\n",
    "    if sys.platform in [\"win32\", \"win64\"]: font_name = \"malgun gothic\"\n",
    "    elif sys.platform == \"darwin\": fornt_name = \"AppleGothic\"\n",
    "    plt.figure(figsize=(12,10))    \n",
    "    nx.draw(T,\n",
    "           pos=nx.fruchterman_reingold_layout(G, k=0.5),\n",
    "           node_size=node_size,\n",
    "           node_color=\"#42FC0A\",   #노란색: \"#FFE27F\"\n",
    "            # http://www.colourlovers.com/palettes/add  에서 색상 가져올 수 있음\n",
    "           font_family=font_name,\n",
    "           label_pos=0, #0=head, 0.5=center, 1=tail\n",
    "            with_labels=True,\n",
    "            font_size=10 )\n",
    "    if fname!=None: \n",
    "        plt.savefig(fname)\n",
    "        print('{}에 저장하였습니다'.format(fname))\n",
    "    plt.axis(\"off\")\n",
    "\n",
    "    plt.show()    "
   ]
  },
  {
   "cell_type": "code",
   "execution_count": null,
   "metadata": {
    "collapsed": true
   },
   "outputs": [],
   "source": [
    "# 특정단어 트랜드 분석"
   ]
  },
  {
   "cell_type": "code",
   "execution_count": null,
   "metadata": {
    "collapsed": true
   },
   "outputs": [],
   "source": [
    "def insta_trends_word(datas, word):\n",
    "    datas['day'] = [date[:10] for date in datas['datetime']]    # #월/일 값만 추가  2017-11-25형태\n",
    "    check = [word in str(tags) for tags in datas.tags]\n",
    "\n",
    "    trends = pd.DataFrame()\n",
    "    trends['article'] = datas[check].groupby(datas['day'])['article'].count()  #  일자별 인스타 포스팅수\n",
    "    trends['replies'] = datas[check].groupby(datas['day'])['replys_count'].sum() # 일자별 댓글 작성수\n",
    "    trends['likes'] = datas[check].groupby(datas['day'])['likes'].sum()     # 일자별 좋아요 수\n",
    "    trends['sum'] = trends.replies + trends.article + trends.likes\n",
    "    \n",
    "    return trends"
   ]
  },
  {
   "cell_type": "code",
   "execution_count": null,
   "metadata": {
    "collapsed": true
   },
   "outputs": [],
   "source": []
  },
  {
   "cell_type": "code",
   "execution_count": null,
   "metadata": {
    "collapsed": true
   },
   "outputs": [],
   "source": [
    "#워드임베딩 모델 생성하기"
   ]
  },
  {
   "cell_type": "code",
   "execution_count": null,
   "metadata": {
    "collapsed": true
   },
   "outputs": [],
   "source": [
    "def make_word2vec(tags_raw, STOP=[]):\n",
    "    tag_lists_selected = tag_lists_selector(tags_raw, STOP=STOP)  #stop 제외한 태그리스트\n",
    "    model = Word2Vec(tag_lists_selected, size=100, window=10, min_count=5)\n",
    "    return model"
   ]
  },
  {
   "cell_type": "code",
   "execution_count": null,
   "metadata": {
    "collapsed": true
   },
   "outputs": [],
   "source": [
    "#워드임베딩 그래프로 표시하기"
   ]
  },
  {
   "cell_type": "code",
   "execution_count": null,
   "metadata": {
    "collapsed": true
   },
   "outputs": [],
   "source": [
    "def word2vec_similar(model, word, topn=20):\n",
    "    # matplotlib 한글 사용하기\n",
    "    font_location = 'c:/Windows/fonts/malgun.ttf'\n",
    "    font_name = font_manager.FontProperties(fname=font_location).get_name()\n",
    "    rc('font',family=font_name)\n",
    "    \n",
    "    labels, values = [],[]\n",
    "    for tags in reversed(model.wv.most_similar(word, topn=topn)):   # 가로 그래프일 경우에는 reversed 로 순서 변경해준다\n",
    "        label, value = tags\n",
    "        labels.append(label)\n",
    "        values.append(value)\n",
    "        \n",
    "    indexes = np.arange(len(labels))\n",
    "    width = 0.9\n",
    "    fig = plt.figure(figsize = (5,4))\n",
    "    plt.barh(indexes, values, width)  # 수평 바 그래프\n",
    "    plt.yticks(indexes, labels, rotation='0')\n",
    "    low = min(values)\n",
    "    high = max(values)\n",
    "    plt.xlim([(low-1.5*(high-low)),1])\n",
    "    plt.title('{}와 함께 사용된 단어 Top{}'.format(word,topn))"
   ]
  }
 ],
 "metadata": {
  "kernelspec": {
   "display_name": "Python 3",
   "language": "python",
   "name": "python3"
  },
  "language_info": {
   "codemirror_mode": {
    "name": "ipython",
    "version": 3
   },
   "file_extension": ".py",
   "mimetype": "text/x-python",
   "name": "python",
   "nbconvert_exporter": "python",
   "pygments_lexer": "ipython3",
   "version": "3.6.1"
  }
 },
 "nbformat": 4,
 "nbformat_minor": 2
}
